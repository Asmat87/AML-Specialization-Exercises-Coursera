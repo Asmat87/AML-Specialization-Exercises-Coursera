{
 "cells": [
  {
   "cell_type": "markdown",
   "metadata": {
    "slideshow": {
     "slide_type": "slide"
    }
   },
   "source": [
    "# Going deeper with Tensorflow\n",
    "\n",
    "In this video, we're going to study the tools you'll use to build deep learning models. Namely, [Tensorflow](https://www.tensorflow.org/).\n",
    "\n",
    "If you're running this notebook outside the course environment, you'll need to install tensorflow:\n",
    "* `pip install tensorflow` should install cpu-only TF on Linux & Mac OS\n",
    "* If you want GPU support from offset, see [TF install page](https://www.tensorflow.org/install/)"
   ]
  },
  {
   "cell_type": "code",
   "execution_count": 1,
   "metadata": {
    "collapsed": true
   },
   "outputs": [],
   "source": [
    "import sys\n",
    "sys.path.append(\"..\")\n",
    "import grading"
   ]
  },
  {
   "cell_type": "markdown",
   "metadata": {},
   "source": [
    "# Visualization"
   ]
  },
  {
   "cell_type": "markdown",
   "metadata": {},
   "source": [
    "Plase note that if you are running on the Coursera platform, you won't be able to access the tensorboard instance due to the network setup there. If you run the notebook locally, you should be able to access TensorBoard on http://127.0.0.1:7007/"
   ]
  },
  {
   "cell_type": "code",
   "execution_count": null,
   "metadata": {
    "scrolled": true
   },
   "outputs": [],
   "source": [
    "# ! killall tensorboard\n",
    "import os\n",
    "os.system(\"tensorboard --logdir=/tmp/tboard --port=7007 &\")"
   ]
  },
  {
   "cell_type": "code",
   "execution_count": 2,
   "metadata": {
    "collapsed": true
   },
   "outputs": [],
   "source": [
    "import tensorflow as tf\n",
    "s = tf.InteractiveSession()"
   ]
  },
  {
   "cell_type": "markdown",
   "metadata": {},
   "source": [
    "# Warming up\n",
    "For starters, let's implement a python function that computes the sum of squares of numbers from 0 to N-1."
   ]
  },
  {
   "cell_type": "code",
   "execution_count": 3,
   "metadata": {
    "collapsed": true
   },
   "outputs": [],
   "source": [
    "import numpy as np\n",
    "def sum_sin(N):\n",
    "    return np.sum(np.arange(N)**2)"
   ]
  },
  {
   "cell_type": "code",
   "execution_count": 4,
   "metadata": {},
   "outputs": [
    {
     "name": "stdout",
     "output_type": "stream",
     "text": [
      "Wall time: 726 ms\n"
     ]
    },
    {
     "data": {
      "text/plain": [
       "-1452071552"
      ]
     },
     "execution_count": 4,
     "metadata": {},
     "output_type": "execute_result"
    }
   ],
   "source": [
    "%%time\n",
    "sum_sin(10**8)"
   ]
  },
  {
   "cell_type": "markdown",
   "metadata": {},
   "source": [
    "# Tensoflow teaser\n",
    "\n",
    "Doing the very same thing"
   ]
  },
  {
   "cell_type": "code",
   "execution_count": 5,
   "metadata": {
    "collapsed": true
   },
   "outputs": [],
   "source": [
    "# An integer parameter\n",
    "N = tf.placeholder('int64', name=\"input_to_your_function\")\n",
    "\n",
    "# A recipe on how to produce the same result\n",
    "result = tf.reduce_sum(tf.range(N)**2, name='Sum')"
   ]
  },
  {
   "cell_type": "code",
   "execution_count": 6,
   "metadata": {},
   "outputs": [
    {
     "data": {
      "text/plain": [
       "<tf.Tensor 'Sum:0' shape=() dtype=int64>"
      ]
     },
     "execution_count": 6,
     "metadata": {},
     "output_type": "execute_result"
    }
   ],
   "source": [
    "result"
   ]
  },
  {
   "cell_type": "code",
   "execution_count": 7,
   "metadata": {},
   "outputs": [
    {
     "name": "stdout",
     "output_type": "stream",
     "text": [
      "Wall time: 842 ms\n"
     ]
    },
    {
     "data": {
      "text/plain": [
       "662921401752298880"
      ]
     },
     "execution_count": 7,
     "metadata": {},
     "output_type": "execute_result"
    }
   ],
   "source": [
    "%%time\n",
    "result.eval({N: 10**8})"
   ]
  },
  {
   "cell_type": "code",
   "execution_count": 8,
   "metadata": {
    "collapsed": true
   },
   "outputs": [],
   "source": [
    "writer = tf.summary.FileWriter(\"/tmp/tboard\", graph=s.graph)"
   ]
  },
  {
   "cell_type": "markdown",
   "metadata": {},
   "source": [
    "# How does it work?\n",
    "1. Define placeholders where you'll send inputs\n",
    "2. Make symbolic graph: a recipe for mathematical transformation of those placeholders\n",
    "3. Compute outputs of your graph with particular values for each placeholder\n",
    "  * `output.eval({placeholder:value})`\n",
    "  * `s.run(output, {placeholder:value})`\n",
    "\n",
    "So far there are two main entities: \"placeholder\" and \"transformation\"\n",
    "* Both can be numbers, vectors, matrices, tensors, etc.\n",
    "* Both can be int32/64, floats, booleans (uint8) of various size.\n",
    "\n",
    "* You can define new transformations as an arbitrary operation on placeholders and other transformations\n",
    " * `tf.reduce_sum(tf.arange(N)**2)` are 3 sequential transformations of placeholder `N`\n",
    " * There's a tensorflow symbolic version for every numpy function\n",
    "   * `a+b, a/b, a**b, ...` behave just like in numpy\n",
    "   * `np.mean` -> `tf.reduce_mean`\n",
    "   * `np.arange` -> `tf.range`\n",
    "   * `np.cumsum` -> `tf.cumsum`\n",
    "   * If if you can't find the op you need, see the [docs](https://www.tensorflow.org/api_docs/python).\n",
    "   \n",
    "`tf.contrib` has many high-level features, may be worth a look."
   ]
  },
  {
   "cell_type": "code",
   "execution_count": 9,
   "metadata": {
    "collapsed": true
   },
   "outputs": [],
   "source": [
    "with tf.name_scope(\"Placeholders_examples\"):\n",
    "    # Default placeholder that can be arbitrary float32\n",
    "    # scalar, vertor, matrix, etc.\n",
    "    arbitrary_input = tf.placeholder('float32')\n",
    "\n",
    "    # Input vector of arbitrary length\n",
    "    input_vector = tf.placeholder('float32', shape=(None,))\n",
    "\n",
    "    # Input vector that _must_ have 10 elements and integer type\n",
    "    fixed_vector = tf.placeholder('int32', shape=(10,))\n",
    "\n",
    "    # Matrix of arbitrary n_rows and 15 columns\n",
    "    # (e.g. a minibatch your data table)\n",
    "    input_matrix = tf.placeholder('float32', shape=(None, 15))\n",
    "    \n",
    "    # You can generally use None whenever you don't need a specific shape\n",
    "    input1 = tf.placeholder('float64', shape=(None, 100, None))\n",
    "    input2 = tf.placeholder('int32', shape=(None, None, 3, 224, 224))\n",
    "\n",
    "    # elementwise multiplication\n",
    "    double_the_vector = input_vector*2\n",
    "\n",
    "    # elementwise cosine\n",
    "    elementwise_cosine = tf.cos(input_vector)\n",
    "\n",
    "    # difference between squared vector and vector itself plus one\n",
    "    vector_squares = input_vector**2 - input_vector + 1"
   ]
  },
  {
   "cell_type": "code",
   "execution_count": 10,
   "metadata": {
    "collapsed": true
   },
   "outputs": [],
   "source": [
    "my_vector =  tf.placeholder('float32', shape=(None,), name=\"VECTOR_1\")\n",
    "my_vector2 = tf.placeholder('float32', shape=(None,))\n",
    "my_transformation = my_vector * my_vector2 / (tf.sin(my_vector) + 1)"
   ]
  },
  {
   "cell_type": "code",
   "execution_count": 11,
   "metadata": {},
   "outputs": [
    {
     "name": "stdout",
     "output_type": "stream",
     "text": [
      "Tensor(\"truediv:0\", shape=(?,), dtype=float32)\n"
     ]
    }
   ],
   "source": [
    "print(my_transformation)"
   ]
  },
  {
   "cell_type": "code",
   "execution_count": 12,
   "metadata": {},
   "outputs": [
    {
     "name": "stdout",
     "output_type": "stream",
     "text": [
      "[ 0.  1.  2.  3.  4.]\n"
     ]
    },
    {
     "data": {
      "text/plain": [
       "array([ 0.        ,  1.62913239,  2.09501147,  2.62899613,  0.        ], dtype=float32)"
      ]
     },
     "execution_count": 12,
     "metadata": {},
     "output_type": "execute_result"
    }
   ],
   "source": [
    "dummy = np.arange(5).astype('float32')\n",
    "print(dummy)\n",
    "my_transformation.eval({my_vector:dummy, my_vector2:dummy[::-1]})"
   ]
  },
  {
   "cell_type": "code",
   "execution_count": 13,
   "metadata": {
    "collapsed": true
   },
   "outputs": [],
   "source": [
    "writer.add_graph(my_transformation.graph)\n",
    "writer.flush()"
   ]
  },
  {
   "cell_type": "markdown",
   "metadata": {},
   "source": [
    "TensorBoard allows writing scalars, images, audio, histogram. You can read more on tensorboard usage [here](https://www.tensorflow.org/get_started/graph_viz)."
   ]
  },
  {
   "cell_type": "markdown",
   "metadata": {},
   "source": [
    "# Summary\n",
    "* Tensorflow is based on computation graphs\n",
    "* The graphs consist of placehlders and transformations"
   ]
  },
  {
   "cell_type": "markdown",
   "metadata": {},
   "source": [
    "# Mean squared error\n",
    "\n",
    "Your assignment is to implement mean squared error in tensorflow."
   ]
  },
  {
   "cell_type": "code",
   "execution_count": 14,
   "metadata": {},
   "outputs": [],
   "source": [
    "with tf.name_scope(\"MSE\"):\n",
    "    y_true = tf.placeholder(\"float32\", shape=(None,), name=\"y_true\")\n",
    "    y_predicted = tf.placeholder(\"float32\", shape=(None,), name=\"y_predicted\")\n",
    "    # Your code goes here\n",
    "    # You want to use tf.reduce_mean\n",
    "    mse = tf.reduce_mean((y_predicted - y_true) ** 2)\n",
    "    \n",
    "def compute_mse(vector1, vector2):\n",
    "    return mse.eval({y_true: vector1, y_predicted: vector2})"
   ]
  },
  {
   "cell_type": "code",
   "execution_count": 15,
   "metadata": {
    "collapsed": true
   },
   "outputs": [],
   "source": [
    "writer.add_graph(mse.graph)\n",
    "writer.flush()"
   ]
  },
  {
   "cell_type": "markdown",
   "metadata": {},
   "source": [
    "Tests and result submission. Please use the credentials obtained from the Coursera assignment page."
   ]
  },
  {
   "cell_type": "code",
   "execution_count": 22,
   "metadata": {
    "collapsed": true
   },
   "outputs": [],
   "source": [
    "import submit"
   ]
  },
  {
   "cell_type": "code",
   "execution_count": 23,
   "metadata": {},
   "outputs": [
    {
     "name": "stdout",
     "output_type": "stream",
     "text": [
      "Submitted to Coursera platform. See results on assignment page!\n"
     ]
    }
   ],
   "source": [
    "submit.submit_mse(compute_mse, 'EMAIL', 'TOKEN')"
   ]
  },
  {
   "cell_type": "markdown",
   "metadata": {},
   "source": [
    "# Variables\n",
    "\n",
    "The inputs and transformations have no value outside function call. This isn't too comfortable if you want your model to have parameters (e.g. network weights) that are always present, but can change their value over time.\n",
    "\n",
    "Tensorflow solves this with `tf.Variable` objects.\n",
    "* You can assign variable a value at any time in your graph\n",
    "* Unlike placeholders, there's no need to explicitly pass values to variables when `s.run(...)`-ing\n",
    "* You can use variables the same way you use transformations \n",
    " "
   ]
  },
  {
   "cell_type": "code",
   "execution_count": 16,
   "metadata": {
    "collapsed": true
   },
   "outputs": [],
   "source": [
    "# Creating a shared variable\n",
    "shared_vector_1 = tf.Variable(initial_value=np.ones(5),\n",
    "                              name=\"example_variable\")"
   ]
  },
  {
   "cell_type": "code",
   "execution_count": 17,
   "metadata": {},
   "outputs": [
    {
     "name": "stdout",
     "output_type": "stream",
     "text": [
      "Initial value [ 1.  1.  1.  1.  1.]\n"
     ]
    }
   ],
   "source": [
    "# Initialize variable(s) with initial values\n",
    "s.run(tf.global_variables_initializer())\n",
    "\n",
    "# Evaluating shared variable (outside symbolicd graph)\n",
    "print(\"Initial value\", s.run(shared_vector_1))\n",
    "\n",
    "# Within symbolic graph you use them just\n",
    "# as any other inout or transformation, not \"get value\" needed"
   ]
  },
  {
   "cell_type": "code",
   "execution_count": 18,
   "metadata": {},
   "outputs": [
    {
     "name": "stdout",
     "output_type": "stream",
     "text": [
      "New value [ 0.  1.  2.  3.  4.]\n"
     ]
    }
   ],
   "source": [
    "# Setting a new value\n",
    "s.run(shared_vector_1.assign(np.arange(5)))\n",
    "\n",
    "# Getting that new value\n",
    "print(\"New value\", s.run(shared_vector_1))"
   ]
  },
  {
   "cell_type": "markdown",
   "metadata": {},
   "source": [
    "# tf.gradients - why graphs matter\n",
    "* Tensorflow can compute derivatives and gradients automatically using the computation graph\n",
    "* True to its name it can manage matrix derivatives\n",
    "* Gradients are computed as a product of elementary derivatives via the chain rule:\n",
    "\n",
    "$$ {\\partial f(g(x)) \\over \\partial x} = {\\partial f(g(x)) \\over \\partial g(x)}\\cdot {\\partial g(x) \\over \\partial x} $$\n",
    "\n",
    "It can get you the derivative of any graph as long as it knows how to differentiate elementary operations"
   ]
  },
  {
   "cell_type": "code",
   "execution_count": 19,
   "metadata": {
    "collapsed": true
   },
   "outputs": [],
   "source": [
    "my_scalar = tf.placeholder('float32')\n",
    "\n",
    "scalar_squared = my_scalar**2\n",
    "\n",
    "# A derivative of scalar_squared by my_scalar\n",
    "derivative = tf.gradients(scalar_squared, [my_scalar, ])"
   ]
  },
  {
   "cell_type": "code",
   "execution_count": 20,
   "metadata": {},
   "outputs": [
    {
     "data": {
      "text/plain": [
       "[<tf.Tensor 'gradients/pow_1_grad/Reshape:0' shape=<unknown> dtype=float32>]"
      ]
     },
     "execution_count": 20,
     "metadata": {},
     "output_type": "execute_result"
    }
   ],
   "source": [
    "derivative"
   ]
  },
  {
   "cell_type": "code",
   "execution_count": 21,
   "metadata": {},
   "outputs": [
    {
     "data": {
      "image/png": "[encoded data removed]",
      "text/plain": [
       "<matplotlib.figure.Figure at 0x26cfb492128>"
      ]
     },
     "metadata": {},
     "output_type": "display_data"
    }
   ],
   "source": [
    "import matplotlib.pyplot as plt\n",
    "%matplotlib inline\n",
    "\n",
    "x = np.linspace(-3, 3)\n",
    "x_squared, x_squared_der = s.run([scalar_squared, derivative[0]],\n",
    "                                 {my_scalar:x})\n",
    "\n",
    "plt.plot(x, x_squared,label=\"$x^2$\")\n",
    "plt.plot(x, x_squared_der, label=r\"$\\frac{dx^2}{dx}$\")\n",
    "plt.legend();"
   ]
  },
  {
   "cell_type": "markdown",
   "metadata": {},
   "source": [
    "# Why that rocks"
   ]
  },
  {
   "cell_type": "code",
   "execution_count": 22,
   "metadata": {
    "collapsed": true
   },
   "outputs": [],
   "source": [
    "my_vector = tf.placeholder('float32', [None])\n",
    "# Compute the gradient of the next weird function over my_scalar and my_vector\n",
    "# Warning! Trying to understand the meaning of that function may result in permanent brain damage\n",
    "weird_psychotic_function = tf.reduce_mean(\n",
    "    (my_vector+my_scalar)**(1+tf.nn.moments(my_vector,[0])[1]) + \n",
    "    1./ tf.atan(my_scalar))/(my_scalar**2 + 1) + 0.01*tf.sin(\n",
    "    2*my_scalar**1.5)*(tf.reduce_sum(my_vector)* my_scalar**2\n",
    "                      )*tf.exp((my_scalar-4)**2)/(\n",
    "    1+tf.exp((my_scalar-4)**2))*(1.-(tf.exp(-(my_scalar-4)**2)\n",
    "                                    )/(1+tf.exp(-(my_scalar-4)**2)))**2\n",
    "\n",
    "der_by_scalar = tf.gradients(weird_psychotic_function, my_scalar)\n",
    "der_by_vector = tf.gradients(weird_psychotic_function, my_vector)"
   ]
  },
  {
   "cell_type": "code",
   "execution_count": 23,
   "metadata": {},
   "outputs": [
    {
     "data": {
      "image/png": "[encoded data removed]",
      "text/plain": [
       "<matplotlib.figure.Figure at 0x26c80a7bf60>"
      ]
     },
     "metadata": {},
     "output_type": "display_data"
    }
   ],
   "source": [
    "# Plotting the derivative\n",
    "scalar_space = np.linspace(1, 7, 100)\n",
    "\n",
    "y = [s.run(weird_psychotic_function, {my_scalar:x, my_vector:[1, 2, 3]})\n",
    "     for x in scalar_space]\n",
    "\n",
    "plt.plot(scalar_space, y, label='function')\n",
    "\n",
    "y_der_by_scalar = [s.run(der_by_scalar,\n",
    "                         {my_scalar:x, my_vector:[1, 2, 3]})\n",
    "                   for x in scalar_space]\n",
    "\n",
    "plt.plot(scalar_space, y_der_by_scalar, label='derivative')\n",
    "plt.grid()\n",
    "plt.legend();"
   ]
  },
  {
   "cell_type": "markdown",
   "metadata": {},
   "source": [
    "# Almost done - optimizers\n",
    "\n",
    "While you can perform gradient descent by hand with automatic grads from above, tensorflow also has some optimization methods implemented for you. Recall momentum & rmsprop?"
   ]
  },
  {
   "cell_type": "code",
   "execution_count": 27,
   "metadata": {
    "collapsed": true
   },
   "outputs": [],
   "source": [
    "y_guess = tf.Variable(np.zeros(2, dtype='float32'))\n",
    "y_true = tf.range(1, 3, dtype='float32')\n",
    "loss = tf.reduce_mean((y_guess - y_true + tf.random_normal([2]))**2) \n",
    "# loss = tf.reduce_mean((y_guess - y_true)**2) \n",
    "optimizer = tf.train.MomentumOptimizer(0.01, 0.5).minimize(\n",
    "    loss, var_list=y_guess)"
   ]
  },
  {
   "cell_type": "code",
   "execution_count": 28,
   "metadata": {},
   "outputs": [
    {
     "data": {
      "image/png": "[encoded data removed]",
      "text/plain": [
       "<matplotlib.figure.Figure at 0x26c8291ffd0>"
      ]
     },
     "metadata": {},
     "output_type": "display_data"
    }
   ],
   "source": [
    "from matplotlib import animation, rc\n",
    "import matplotlib_utils\n",
    "from IPython.display import HTML, display_html\n",
    "\n",
    "fig, ax = plt.subplots()\n",
    "y_true_value = s.run(y_true)\n",
    "level_x = np.arange(0, 2, 0.02)\n",
    "level_y = np.arange(0, 3, 0.02)\n",
    "X, Y = np.meshgrid(level_x, level_y)\n",
    "Z = (X - y_true_value[0])**2 + (Y - y_true_value[1])**2\n",
    "ax.set_xlim(-0.02, 2)\n",
    "ax.set_ylim(-0.02, 3)\n",
    "s.run(tf.global_variables_initializer())\n",
    "ax.scatter(*s.run(y_true), c='red')\n",
    "contour = ax.contour(X, Y, Z, 10)\n",
    "ax.clabel(contour, inline=1, fontsize=10)\n",
    "line, = ax.plot([], [], lw=2)\n",
    "\n",
    "def init():\n",
    "    line.set_data([], [])\n",
    "    return (line,)\n",
    "\n",
    "guesses = [s.run(y_guess)]\n",
    "\n",
    "def animate(i):\n",
    "    s.run(optimizer)\n",
    "    guesses.append(s.run(y_guess))\n",
    "    line.set_data(*zip(*guesses))\n",
    "    return (line,)\n",
    "\n",
    "anim = animation.FuncAnimation(fig, animate, init_func=init,\n",
    "                               frames=400, interval=20, blit=True)"
   ]
  },
  {
   "cell_type": "code",
   "execution_count": 29,
   "metadata": {},
   "outputs": [
    {
     "data": {
      "text/html": [
       "<video width=\"432\" height=\"288\" controls autoplay loop>\n",
       "  <source type=\"video/mp4\" src=\"data:video/mp4;base64,AAAAHGZ0eXBNNFYgAAACAGlzb21pc28yYXZjMQAAAAhmcmVlAACmpW1kYXQAAAKuBgX//6rcRem9\n",
       "5tlIt5Ys2CDZI+7veDI2NCAtIGNvcmUgMTQ2IHIyNTM4IDEyMTM5NmMgLSBILjI2NC9NUEVHLTQg\n",
       "QVZDIGNvZGVjIC0gQ29weWxlZnQgMjAwMy0yMDE1IC0gaHR0cDovL3d3dy52aWRlb2xhbi5vcmcv\n",
       "eDI2NC5odG1sIC0gb3B0aW9uczogY2FiYWM9MSByZWY9MyBkZWJsb2NrPTE6MDowIGFuYWx5c2U9\n",
       "MHgzOjB4MTEzIG1lPWhleCBzdWJtZT03IHBzeT0xIHBzeV9yZD0xLjAwOjAuMDAgbWl4ZWRfcmVm\n",
       "PTEgbWVfcmFuZ2U9MTYgY2hyb21hX21lPTEgdHJlbGxpcz0xIDh4OGRjdD0xIGNxbT0wIGRlYWR6\n",
       "b25lPTIxLDExIGZhc3RfcHNraXA9MSBjaHJvbWFfcXBfb2Zmc2V0PS0yIHRocmVhZHM9NiBsb29r\n",
       "YWhlYWRfdGhyZWFkcz0xIHNsaWNlZF90aHJlYWRzPTAgbnI9MCBkZWNpbWF0ZT0xIGludGVybGFj\n",
       "ZWQ9MCBibHVyYXlfY29tcGF0PTAgY29uc3RyYWluZWRfaW50cmE9MCBiZnJhbWVzPTMgYl9weXJh\n",
       "bWlkPTIgYl9hZGFwdD0xIGJfYmlhcz0wIGRpcmVjdD0xIHdlaWdodGI9MSBvcGVuX2dvcD0wIHdl\n",
       "aWdodHA9MiBrZXlpbnQ9MjUwIGtleWludF9taW49MjUgc2NlbmVjdXQ9NDAgaW50cmFfcmVmcmVz\n",
       "aD0wIHJjX2xvb2thaGVhZD00MCByYz1jcmYgbWJ0cmVlPTEgY3JmPTIzLjAgcWNvbXA9MC42MCBx\n",
       "cG1pbj0wIHFwbWF4PTY5IHFwc3RlcD00IGlwX3JhdGlvPTEuNDAgYXE9MToxLjAwAIAAADJHZYiE\n",
       "ADP//vbsvgU1/Z/QlxEsxdpKcD4qpICAdzTAAAADAAB4He8+UME3qAgRXU+O3+/edMJ0DnCMXWPN\n",
       "eZygE92gs3qdzsl1RjH5VUqIbQW4lbEY1EhCwAAAp+d7WlETlo/mXGVA6zsYmW8XOcekSPNfdAfD\n",
       "j16Iz/LDNKQmyf5lVtIBdVpZ4KvYcX8cNNP2NyS+bXLN1Kz7P743JApU7H0rd+Setr39+zCGxsol\n",
       "gbe0UldKDt+6i1OYrKvx2s45u9Q6Y/OJnpePRWzznw/SVW3UyFdexPcy8ZSuHOb76LAfXuCGgc52\n",
       "cBn99Yx1QmgvtKYgN2Gh5T1bZ1F75OEXLqZsLkFsv0/teu4jQNNmT6Dog71orFl5RBiE/2FqLN4Q\n",
       "jcilNAEV3/ZASzSGTBFD25U7dwieTyCEitrIx+OYHbPNLPzLVBp/sS0z7iZhX7AFzhgSF6aFnW21\n",
       "wQ+aQtJg43BM8RKUM6jb5Tb5wrDqYSaM9HRU7+8UD1kSdV3732gt6en384MhXfFbHtoZ3910f6Vo\n",
       "ACaPtMxaNf7yh2kiGrwqWtRDVAIi0LTirJsrZvaapKiArPrz/0AUDbGnzxmUcYc2iCmT6X6Xu9iQ\n",
       "xO25pLhAfvP6TTXGDxoj40DK7hq4IPYsnF1cNLRokmTYwefY4L6niJ6RjfZximtnclsulPEailMX\n",
       "QoxPSLudSSbmnw+Zs9b/80plGZyX0WhAI9Svovtv/qOrml98s1pKPtBtCyWJjeL4aWjGR4OteX9d\n",
       "JxuJ8agB+RmkLQH8iOzHRQ+15wkuO2v+288Aj/D/4vpWUYk+PYx6DeSZep4YXZ7fN+/gu5qTqEdy\n",
       "AnCfbWIuYBb0I+zqlAqV31ZMItdQBqLbbg/HdZkAjjBo0jo3AlP0TBdwZFDLzzKaVX16n8lif78k\n",
       "g1PrSMwY8oudPE+LfH5ucMGQ4yI3oDjxqcln5tIg/1Flw/q96L+ZAeqBm7sNq+lGSggtHlQa9lZA\n",
       "q1zL7EKx/nuaOljtANDcETU4+01T+Kdg3aqvtnWGzOrptl8zQp5LZdG0MP1TqEr0qIV7zougH6ak\n",
       "Nv0KprcpnTFqpsPSMcT6Zr/wftPybpIl8JQsW88lFkTy0UrKyzN6MGsSXZVaxuQIbGp4WDmPSwTy\n",
       "cQOQa3wQzEW8Hl4Y8oeeSI/WpFIR+RcQzrpVsEWXiw4eVfLcOAeo8OYRQL/rlfbDZdiwImCqZtiX\n",
       "Ci3PKSzdDWWRGEEmj2cxFNSY3cQ//upgahEyBInhHuugv7lMYgT/iQBvhhlVHRrbtJsViS1fkcty\n",
       "TQkfR7PJM+GZMl5ilWZSpNTmkf4AIBfulADrt4rjTyM/by9apLk8R0BZfrAsQ/48SdbZK8onfUQt\n",
       "tFgeoVJJVCzYoCD4/o/+dDkk8PIiirSmnAmAsVGLryDd4IQp9YCZSOlQPLb8GnYlLGAzelGdd4ET\n",
       "4gkm5f92xKu8ewDPN2221Iuukpz6t326spesQ7ykJh+QEFrVq6UOd0FuQE0Ve4dSA26FbdUGmReh\n",
       "8pc1J2vbTTvUwZq/rM9XnIjUSM8LSvV+TjcFHxmKf8GFC/RhcCX3QUnoAXe2DSNbf0/QyKwa3K0n\n",
       "ZDDy393lJv1AbhORbCmqadeGUuCQYey95tDIOacvEUwvWiTjQnhyhsep+v5j4ox8aAcp4vzEZTac\n",
       "WkrX/4tl3yRkW1DxAGjPSiFGeEHDXhzzhRrphuF/t9AD1VtZCAqz3YVeOOxpCXdUmtxuj5DhkZQa\n",
       "EDj7KBmW44iKNXn7LykLRPg3ynDV34UT3iBzPmGXr5sVBnnBAm2rqbsjzCIGMHCj2Wxpc1veuWnq\n",
       "CwKQKVrCTMn798YUdG7VZ1uoUlIH5Ipqf+34ZeUlf2wIcXv6UI3mpR3vB6vglqe4RkVviz08jbLo\n",
       "jdCKynZb9FldoMReiOslHXYZXbycvznqCn/gZXKxIRteqxYLUXDguzQhCn4jAVbnq2h31F0XiCd1\n",
       "tY0Zse6ANATKgBgDVAjHz8dO4PsyQSTj2jsQ4jmf7eXZhnQTy7cpJPDEQh7+RgaMHUB+R+Pr9LEB\n",
       "8cDfPGyneIEgFQH9Hb7IZ4KotlY9FyD5c1rOwJQED+FBG4sdQVMfWTF0jlS5/8e3N+yMZAJKM2dz\n",
       "rjM2Z3LEcib9/ZfsTrIO2xPkUJgUcpJclfYBX4ozeNadh4m/91CFURRrzts89u/xaz7T368Bgt4z\n",
       "lMXhDcR3scZJFr64HTSYvAptqBLI+HKu5qbTWsuhZHfVY1edn/MC7INpzTIoIhBRAJrewhINtvdV\n",
       "u4CTmKzu9E95geVlNtF1W4yBAEcfcnVQ2d2rgO5vCuRkQqTlmYcTQIH205bVCrbVycsWJ111bUaA\n",
       "keKSEOMRkp3m8Yxu2Mwtv235MHA79MZb/DgiwVOB28CcxqpfLYue3kO26hoWx64a7PqJ8Kp+6YeM\n",
       "xyDb7uTRHBX3UxQXS6ZsEahdmCU3zHj8cKRhOvDDnBvOZ9hEqf0f3nNdksvWFFiIJsccTOY8fgkq\n",
       "mJyPFzL9SdV6cl/ShHXcJJHyU5SYriH1XL+ftkbjXkQhoygS59qblgQJGDNm06TbVDP1iDNp8xMj\n",
       "WLZLaKszt18BnKLpZDWnUNQ+QNRaGiJBuSISAwG0v8A+0+ejUk5JCtqHmkMgVeGEMlhJBKvbg6QS\n",
       "Zvc90gKrl4wh5uExF4uXnKfsN9qSeL875Fvjceg6JT6P4LghlFzhDMkWXfdzD0t3BQqceWPUMity\n",
       "4gxS6e+PYlnOuKpK5wx/AGIP+OmE4Y11/yelxlcvlzAkACJY7kmjbOXsmIL90PXR1MHRsjUOnfGU\n",
       "BlGFcwvuq6S6vn0cR4i9SZGFId1fvhyCCWUwoIUYEMtt+qcw8H12hCJ9enH0XKfiTZb5TsiAi+4I\n",
       "2YM2tTXz5eVUsgdBnTBngMH0jfgP9tdSAqWCguUDp4ZxGeaH74NF6Pqo+yvcTbmS5C17KuGzCuSx\n",
       "HXjEOgd+ztjE4mB20l5N3FpOUmt8RcpfdJLjKFd+cCT34LZ5MyrSS9klWMicbEozWRiY81Xyp5+y\n",
       "J+4ZlzoAv8mIZaepX/uMkD558bDUPscDL7nPBhqNblFpYP5Lv6EJI4ChFqNwhtlWAd3UczzUmHJO\n",
       "Z6nOtmn0ugpuDaxcUx4F/MJjXB/xnyiCQ1j3Bh4OvO0M52w6DEZUE5x1hJpHZvxGcaKXBGriVXN+\n",
       "LUfBLtZHXM+MLRx4MKGqZLOKComMzPdOExd14XXokRf0zoLAKt+42n4ZlU6QNgcjblP9kz0zOAH/\n",
       "i8wcv5K2as0BA8bdeC+5Ix5oX0+EUgyANyZLW/+aio2HfqnIGUJhr64WLaiefNU1OunVUeOpcTxI\n",
       "I2J9azzqonpCq0tZNRUpsmNF+lxqsmZov3eNvy95xgQkJQJtDsiHdfjV6D7ey9epOfpv3NMAKFxT\n",
       "5XpXVk0I4YKRnP2MMvzCyFVc1kKSogx10/UmKT+VjmL0iDrUa0U1kBQ0x3HtXqwSkEBPjIb0KN31\n",
       "kSOW7fnkPq6Bce7vheItp5SP3HqLINdV7i43+RcgnhNp2lzfDGXxsVqQD95WAAXIzMxc1rLrOuAm\n",
       "hXPCF9QNVcoQG2qsqYva7o4Q1fvEsYumw261aegJqs349Lo2uShrRCcY3AJDve5QNCyKfLB3r7iE\n",
       "HzduZCjWq0TY880La2zmAa0gxItxDffyb2YFBfAAAF5UcvufncOxJ/25TILYPcdp2u44/4hgx8Kr\n",
       "aliiZLn8Xy5GWdmYQqkKru3dZZj4PoCLs5O2jnO8HzTinGlnsXATs8SLQ50LxflQFDXb6/zL+2qC\n",
       "RJTaayxKUW0mihaPYY39rkyawHQKbzv9LyVHUZhSkzN6fr3udZxAm4umFDBjaW8wuoCpk9mAWUb1\n",
       "yoKh49NyhKx9atRIElqnpWVrv2X3+8fBcqZb1mrdR/MiiEP971VVE1bseOOJ09gVRzJ2KjrhIV+R\n",
       "rqhW97ogUth/c3Nx7gy63jhTDUjAfa45bwlHvOWvMZw79cPnr72aNSTyjDIAzRJEmOlondy1AThD\n",
       "1Q1iD8U4WwdcCIjDawfomLqByyOl4brPROKgTRKKxf4ja8B8dKnAcYIiyGxs2E4FJvkXkHsP4Fwp\n",
       "/MJLr4rpHr7Fskoq98s28wiNx9AyShSQntHhsMV2ZGlHxjeXd60SwisTCPE0geSRbFLN0BtWjG2a\n",
       "qta/NCb9RD75NGkKPmv2qQlBVkRThgHBnv+v5S3g4lMSJDtwNKl6F2hQxbpEJ+oFakTMsdNXkNAP\n",
       "gP9h4dujCTDnZ2kBGzHeA8HdEvtjzAWf1T5yu0dIEA5KTTFYUZRdq+a4sgCbZstQm75SSj5Cnq27\n",
       "sf4B2tW9++cNVFGXpKt0ufm9l+fRmrcpOjXclAzKpQzcBB+PPyIlcVLop9MzbWUQAGzOqSSrcQn7\n",
       "/Kl/+rCZcXT6yxTigW/OnThqi2cwaxuVXPuGtTunEWnWKhJyub773S+DKD1WOEyXGMXWBHFpHTcN\n",
       "LqAqFgFXX/q13YdO0tOfDK4yMFOlrHckwkC1yM06RVZCDAjHivl60508JMijpEGU2EsqTgAha08l\n",
       "9kZfUxRW2OPjbY5vcbtXQIlW0U/IUjqVqm0mq/12F20pf3IvLBvCv30Mjm7AtgxM7KPm/ryqVUHm\n",
       "AQE3LQTARdr05ECFqwK5ssQzqGR6HSVkuLNCrny0KPvu+D63zL8jm8Yja9+ymzVv7Zvl4dtbjP5F\n",
       "qAQ9ExxBuYjZYQZO4XkLBC5rkSMqDNdgygafHiYg98wNv9mhmxBsewNpK5z87J/3JT7Z8LWDLqQv\n",
       "6/QFv0YRRQkl0V+hn80RoKE0+NpC/LAdUfqYjA9/MhrYPbj66cTjdUsnzi4q+E1CR5ZnLBpcyzUI\n",
       "S39GI9B9OdG1NS2YY/pU4bTV5RpX02T5k9bMvvbsJz8Lvnj7wF2weCbkSiHk7i/ZYDs01xWLtSrG\n",
       "apmr/c3xtNELUnb//uotcn93zPbki1B0NF5AGVgruCmd3GUI/OuXv9T/9lr5J2DnEiW4yHNrVgE/\n",
       "fyXUZnIu6yp0nQwWGqC0OkcMCg0zG/8mNrkiO+/dJ0iBga7tWo8LLO+whzKDoCokGLZhOxcnOd/x\n",
       "MvTZcPG8K0ziNmXZ6mHTqhE4xTsTOE9UwrNAGjrmpZ7Puf+I53sAbCJ10si6y8Jfwwkmg0QhQqAv\n",
       "0TZ6HyG6hmXlt4ku0UWqxMQ28KZC62WWBLRihBpc7RcRnl2iuvMLwfNwpalsKHZeUzNjjmifTpsB\n",
       "KdXI6Y3/Uu2Xa53RkunRP0yU0RJhYgJVufwaGGvip83EnbCJaDbCL+PUQNMr9peDMJMTtdXZmHdd\n",
       "cz3QlB1Fx8gB1j/+9g+rP1+dZNcMW5N99Eq/NWNjDiD0qZmHF6lsrBfASk8ot5mBMgy628/xv1WI\n",
       "k9v7n4vO7dq2TJpVfXfQDo8ZqqPOIKPK9lufSWqGHwe7KUXHaLUmcfa3Gh8z6HSA5YyU1rHdzDqI\n",
       "qB/fmXcxKXFiP56mOLcOcW8Yb/zcwdATdmaPBCzQz2TRf1mgOj9Bwe+h4O8g6TyZcNV6ZbvVGCKi\n",
       "fjzvsj6xdAlvjiNAHnybv4jRnowj/faxPnnQcGo3RZiebqvnwCMyK/mkCp9QpHMHTRK7gnCHb+z1\n",
       "Z3rab+9CY37SrSyBvaC2238gJkb55dCjRzydRTa+5//unFMBUpnnIShQwVKB9siuaaCo6BkDibyu\n",
       "IsH5aNwBJpT/WkeXysik5tCWmpPKIkBHaC4J6tHLlXCWVBrMo88EEwLyAM8QfzmfiAGVWHBImO7s\n",
       "iqEzqB5PrtbEcM0iS8ne0oeZ+fG9NiVD7vCt5WrmDJRQRYut8+bDRXSzVcZsts7VcJaGgX3lMnBM\n",
       "P9dNRAlOeHmZY4oPsikgEg8lC9DUxgKKn8rQ1S8+iquGnx+nx3SdvhBzv1Zt6oX+cr8UrAv3xDsz\n",
       "1g9wBqqt7GlsKk6f8E0xXIpklkQRef0yWdEVUGks7aXomKA9lyX4rNBUl5ju/SHRUF8r7RaYjsKC\n",
       "uNuDamj6j2lGqedqecsJGgN7l5Zc7uNExb3/OfTp3LxPIGFwR1rKIn41519Qw4dnW9Fteoyr+blQ\n",
       "7k5rHx5cVcXZwNsgmDdVjj3K7gtJ0h6n4rlKF7jjckS/q7dHwcMrS+sFsmliPkFvxiHgChWmHHlU\n",
       "jV3Eml5hbckx+aD5kuxosq1Yw99+q73nV3COMO8rQ0fkm+kBJJFeDrnbvKcZsjTlmj3HbDsExbF8\n",
       "ehhdIdlH3TSVvhb8P1YUVDtcSPgSI6dmizYO9o85hWtm5X9LBhr69yJrya6/1lIwjQSRDzVcb1d2\n",
       "Zve05/tWPlScK8Lb8HI1eXLq0R4Do+YdU21nf8lQAVmM0R/+fJfqSfbBMk+70aPlVn5ubqcoG+gN\n",
       "XkPcN4FPMW4qgQHJXKGp71qUhDchuoGntMqUvbUZQnjj1WKzToTHS9YY3KSh/rdCghNHJMIwb26u\n",
       "cLeS+KbNOjbdgswu8h2pCNfon1VPnkExuvAmSKmBskMtuGZfiuf3tAHvHVT5F/U9wJGnh7y8hcHp\n",
       "SxWZYDx+4yy7Zyt/Gd2Q3uvnxyYSp8ii0V+C/kvbrGg+r1k7hsV86HG7EIvtkKhGnF4F4wq2nvLk\n",
       "+2x1nydxYyXvwFZgapaPTboQcTgNEBv3gk2czBBzFeMuPQD4Toc9wAoxDxDt4flGtGegklsCc7BB\n",
       "hd+6Y5h0Ku3Siwni1ZIn01jHhsbvuyPJsxnF2yLG9rkveFWt/kJGaKqDWJuB5zwLYhEemrjesbKU\n",
       "dNFXr+eWQBcVM//T3qSFNO4JHa0XGzr5Z4DiZkStt/wpDBkNoNRHLFo0MUwMFRz3X8hzC2wX0A16\n",
       "0CsfHZoieh6W9nxvh9crpWVMRMkMf2BjIkXaEO+ZYTQeTYUI1TNaRtm+DUFOCWtnxi0hJNCFVW8s\n",
       "dWujE3TQB7m8XTelJVS17m8ViwHpglvZ40xZV9KxwWpXPAe1+bXUkHHKOGNVmHQaWtARyFdU3bOz\n",
       "52sNg3MbMAZ2IP7Q2vcFupZ8yBOOt+ADZkjHzez1fvpoKzOXSo1GOXjLLpplq5c6ZDIBhOSR84AY\n",
       "8HsjDyLTvAqLCDzcdY8c0Hj5djkYfvp2t+PCShucvpoo0D0qWxdmtT4IDgGrvc8n/yZlNRWqSZuZ\n",
       "zudD9nwhcQd+rAqBDaGbF7iZkBGTeHN7dvrPeRPFJ6mCTFFDpF66IvYlfMpNiG8sobgzocZmJ+Gc\n",
       "4S0UwO+muCr5R3ECicGR4/tKYUCnbQBBuVbcb4moxPBGINZJGgMPdo0oshoqT/E96vLZ3+vG3Yni\n",
       "YrBKgw4DHi9jz4ysTrDHxlERzkVnk7D+aJflttRXPNNrtrzlK6dKwzS4tGO37If8W+z1CXdXv735\n",
       "SuaHRjavK9aW0/1pqtX5G2XRV9GLiKdhsBK+Xw5tCeUcbqeTYKY1dR45RbS5CJbbPeofMwZKycr4\n",
       "e6MDeb1EigwtlFn79FQAlCnek0COC6heTaQFQjK2SgCizS7Bnh01FzQSRUfXS3Ey4fPUQGB04PrJ\n",
       "pvY0V8X7MkBAws2ZpjUQm+q/LIGOuYKxHk2AycnbLUkjtcihuxYxyDRS6LGkrD5JD6+6rRduV1Fn\n",
       "Y2qtSi+HTFyb68BBlUkGwUR058UwL51/zZen2Xf84UD77adznknzeh7dJooUugnpjJo8jALFDlrl\n",
       "UJG3tXzGmaG+cKTfmO2Nw7Ad8B2x7DTHDNLXnjByrIiBfZfhCa4LZLSUhQBwm8MIt0OEIxMuVrfF\n",
       "LRFqhgDs1KzwPWWbuv/2b+6s6V1jMk4x4zm5v0vw8ZJdACImE399BZb2s5dSQhn+G0deF1Ej5Uim\n",
       "CCYWTvEYfJ56oE4eXeTK8lZvxJnYF4mPBgsOJM+JR0oOGKm7aoRcLMw3IdibhAkWKg8mFYKYvNan\n",
       "WoC8VtIrYGgoHKOdGBifBGn7VaD6GblyAD5fd58C1H6o9W4gFHsXI4lmdxcQJ777dBeZvAWkY0gR\n",
       "1AXNCrwFfo4mWrmUpXkWnlYjPY0TdzGdCIt8vydTcf0cmEyIQT47u+g1X3RsLmmfadz84smMupl0\n",
       "UPyi3uV9zV8KC/dZCOEU1WdPSKSN23H5feQZoF2grwzLbsPs0VZEONXRqfSP4tqfxCMPN4Nml0/G\n",
       "4H6YmpFIXSxEHolTXV9pKFG1OMuil6njiYWeP3Mal7sHz28aNJC6fWcIsYe6ipyI3UuZPNUIPXAz\n",
       "Pv/h1G8fANXK20eEMM4imidEIGhw95Ma0GIVxJyRQEhlr9UYfYmi53nMgXt2KIkjddJG/ljH3xuY\n",
       "hfdn3vPCklbzQ5ruxtsUnMso02s3BJZXRDH03AMCRfTnrD+an9fC1Hlwo6wj/gAQmzYDEN9c5iDI\n",
       "iN5UyQvx0nHNe3tGLlBOIjAfUA6MXkb+u+joyPZCmuuz9DGGGnWdgdE64RqiBgkTn4qKbcg/N2ja\n",
       "qrLYRbnTLw69rC9/1QV1aAXUXGRcP+McT2ydC2pk3k/iP1DiAashTx7amtKp9GN19gcyX+5bnLmd\n",
       "X1PhOT+9uw/ORX45PV9tMsC5LtKTAVtFTIrrBrKtLEy6m4qpJJzIwAK4e6tqMnnsQ+zJBuyL+1dq\n",
       "jvhmeebWEn6eQ5luOKIv6KKMHa8WO3bv3VZPbt2iV2/z0ceuAn0jHXIzh8K1J48z3hAsipZMibm4\n",
       "AsJg0lEsPkMT2Rkjf8bZh0c3wJ8Xr5btSaS3fFWbz5XW5wTeti8sWdeU9ZlX/RMVy8o4z3iZTvTc\n",
       "SdHe3hLlN1o9aTRrI4x+oawl31nA01/IZZ9ZCvVlsjBpAzDwUj9KdwJ2WmV2TkJqY8jU7l8p+hy7\n",
       "4pE2w4G+ZYK1Iki1K59e2jOsKPgu8dqH76wYb0QDDDnBML4UrhbcaESuKT9HZ9rSwNAgr1E2Av/i\n",
       "196zqO6T0+OWjx0U4Fp3rZrfHXwuSyV/p6DR8OdLRjAUQUJbwJpAAqpaX8AOiryW2jCEYAKG67zh\n",
       "JwypmWzm2ouB2BwdgcpQzDjFuUMe4GgmA2jWdMmiYHYdQugeuJll62YWHI2u5iIIjv5sXp7X3YCo\n",
       "KpyzqdveWJwcS/jEc6930Cw7AiKwBRtiHNb5wdNIteBwpoBBl/c5GW9Zzb0SjrpOI+XXAS49MXZr\n",
       "DEEgeXGI7JPH790dbf8OzV8GORTqxcRbM48gLLwWUsTrYPI87nj38f5X6j2adLQBWNYYxgohbs7v\n",
       "aYA+knQPG1Y3UduBTb1SwyF35t/aWWf8a2Rbz0diaDar2EN2EAzri/wlyopsQ/H1/VESFcglXzZm\n",
       "j+SILkwzm6xa9o+Y9n26MiALWtOKKEEMLC+ifu9MbL35Ndhl70KnNio9RBNSxSUrS9TP0jLXuJBW\n",
       "lRzU2HC3aGr+yFbVS7Oe4sbOrEeQaQwzBNDQvH5eHc7xMcB1ydoYoy2YZabMGtuBn/soKeuaHieB\n",
       "bD9YIYmo7pCqHm6qXBYew5XySi9tY8IygSLvKL46GTr54cx9sSyS5C9l6Qq8YBD6sSdxHpQaOGIj\n",
       "mUCROKyaq2azbtYXNG3ZB1uKPKgW9N39OxF1peUzGAduM3xSE1UhWPjLw3T78HQTo/yjbSHdQKBz\n",
       "LICoAtRGW9FSmz4RGHgvIjyjAY9mS3on3HKGkepmrf5PbIcovXJf5SZVLcXqr2l35iSp564F+aqM\n",
       "Dt6luCcAxs8q1O9viGGxHrr96o9czE9nco0skQj7Eze1+SERDV7q5jGxleQtRrQx/fENpvx+Qr4c\n",
       "MPwgmWVE/hocad7o4VdoEYEfAvn+eKCqtH45gtnmZKnV/RjLPXGHQAGQYTSZJkYDapzty/YU5Ruh\n",
       "VEJ7CovmDLNy3sn/MNMMBsye7HIzYx20da4tEjcCThMg5ffTxsVdTWYPwrLtwb/eVHhUA9W9eLZY\n",
       "ELCRqTT0VbeyJUqWqX7KwmBR2HvD4MpbRKQqvwKZLKkajCCpflN6WECgBfioV97aG1A74gIsqxEX\n",
       "GTZj/WUlQvDghl3mJu1eVTx+WOBCWstyPF88zjhzXloVmHaT2Qe6swwdSfsH2xjJntqUIWqX1SER\n",
       "ZL/YKCWhsgCBF1tlMlFHYHxdRHN8UrYFHs3ZRWsiEefjDOQk4XLBl/mnraA1epksd0dwF7Gy2xmR\n",
       "msZW3ngoxPDkQswb/0Ka2dCD0sw5T/mphEejAQ1mOh3zVYEUXQPlfbzbeGWr4fFQrHVc3/bykmo/\n",
       "/lRnxiguCI4dEhT3vn3RfHNc/HAglsSc6Vz0M19qGpdVdfalWVxxtZNWuQHy7Iy46kupn5CHufxx\n",
       "K7kjWOFb7sboR/kRlr9zfdM8mr5Lh5tHkH0nkuC4kS0Yz8BvivPEuGNAWavuWw+rA+cTmdsAsGYF\n",
       "iX/66/oe95ygE/HxhETWKPj/JH44J+LsBkCJYt/GgheeN+B8vvURChEOWhOPt4m7TY2dCwm75hxn\n",
       "QtYx8yVnZWnAXIvxDASiYQrBUaszycq8pqg2ZX7LoekPPNtKPiCx340Qc57Bua0Xe39COHaVKCeU\n",
       "qF2yJ3WpvFkGoJtAXrOt61ZXpIJV//Ji28WsLyH58Xeramoq25GBLG7Jzw6OpxrH0+0u2YaPzGDP\n",
       "TP3B5448VtqwjG8aP4w6S0T5o7vksM5cawvT2P0b9msnDHUiE/cP1pwe6Kyvo5bFcq6iPNvDdxoW\n",
       "tP/HJ8nGcLfv53zjlJSmCAQRGHZFfrzkTTvsqO7PNzkGncnAXKqRRZnCSgSvx00hZpJOIIJReWV7\n",
       "RMucSZnTfFnkTCYOQlpLvfAXBl+JISlK4euFOmTNRhIE2VslqvCY0k7tuaz8unepmEVu8Bg2DpNM\n",
       "M8AHnF9yE+hFVRm3lKAMqMPqq1EvGznqsAhhmniTyJeCp766k1+dlSH4Ax6cQv/h2Qf/t8yUPHQb\n",
       "pNn+53LJJOYxS0q1o13Sy8XefuaW2atpOLunFe/UDIgBFVnGeRmw3D3mOA3g66mT12VVn7KHnk8s\n",
       "1pICrkKZ8dBN1RoT0Paxmia/lUcbc3oSB1gfTeLCnVn0ebQfBSFx8SZUlRLS8A1kvx3Mx9IMXT35\n",
       "w12ttusjFQAIZkHEUnV48aIg7i6/9UZuni2+j89GBIsgr9g1KC/ya01DvtN5Dxew5f7AyZmQS1R5\n",
       "WPohbVc73nqpYV+QslmxpXUzcdvjjhtL5KVvOV5gHDAYWyoARdWCb8JL67VNFFKNZYJFP4aot13+\n",
       "yhh/DEL/9UxJLz2k9cx0l56j2JSBh/1E8UFjmObaVl3FeG+s8kcyQ4SClEIM0FWTV3f9vg3lJvGO\n",
       "/bGw7f4rYqaQRlGMdPsfS83EzbviDUP1lrMw6G2rYTp7XExQE+wNBwfe3vNBgd1hZeYZEESxuZIA\n",
       "63rlDI+rD4HRgzYft8/gI/SAQjedX/3K3UVRCn1qHFk8rgLZiRCq3hgnPBdklGKyTApdQMeXuI19\n",
       "vgKaEDk0HFBAo2P+N2pn6Wk0XnnlSaKCcUBbQDvicc5C7Y7dV2qcQGSM6gtGqRN03SPS9+y0fjQo\n",
       "sU0LKHs2SBLuJ29svbJdU6MlIbJ7Wf3REKRukinaB3HjKrqFfXvrL2fETy1H3u4EKBMU0zDWxejR\n",
       "w140nJ3gc9ntnumKa7EpryH6d5hN2U3+CUDkJWepryq8yZgMNKAZ7EiZ9BlquaMFTUGpDl0mBiQc\n",
       "Hrph5MD4rpzRDKPwOec23AF1K5LLBMYRjUZJ1m2z6sLaDVfVWrddyVOH+xmfmqgjezluHBuPRg0e\n",
       "GpmkvDvS6XMb7TgUX3UKQGXJx1j370A72Xt/tgGz6c1lxFvSRIotaayNazAfZBCpb5ZvJ/TbBpvF\n",
       "UBxJ/7iyZtZjZRRc18QgMp18hHWcZV5Qe/soYstZ81Hx7o/AI61bePos+FXQQVwTWHNkMgqchHD6\n",
       "eJbAh27xfPObcqXcyxIYTogJ8czoGit1DHyIACDWK4v43nekIx6TDGhAblgNe6+XwZR0DXIzPnuv\n",
       "Du/w3qzOQadbc3AflEA5izx00wvJ41Jwn0jkiBwPux4pUuvHhfpKSYasCVaQh69k92nYfUkuaNO4\n",
       "CJfPoGGIL7Bh750X9/vM83ASSXZ8l6dFlCdOf7FcAPCwK89L3N9X0BylTqaM5B43HC4vTwODBRT8\n",
       "4fMsQEj1FOFKn18K/lpNt3yXNQDFde4XCvst6CirUslxH/Ct1f2Bwgzr+J5ziIvUB+KE73+16PZS\n",
       "fl/VoRnBRn3ONLf4GMqIZfu73vGxRzSaqSmtC6ENRNngghxX7uvQekvGrD4rIoBzfCLOajY+sNBk\n",
       "mLqOuFVZj8wlFmgM76TU/NbYZ9raBhrcY+Nci2ELEW4dkTA7AC7iv+A1ZUk1FjgmRlUxBjzxTY3K\n",
       "n8jUAXb/p85a6oCAvz5EW3GlxJVY8IX2714JB/jrn4fgV/Vt2l1wvItRSyoWmYQCS0SVjITZka+B\n",
       "VEJ2JG6drKLOFOclsRKXYifgsApLw7r2VJLLu5rgbyVcyM0oiuoiFF0VAspu8szcnBlbIqoHLYM7\n",
       "XT7lZah3fIrQC19dENCmJ8zvcvfpfeoUQfEvZ9LFEpXKKwtvScJYxQuZmge2bZzMT5fbGo8sXW62\n",
       "LUq+eTGsGgFFXHm7Hkn9CMN75WYepyKOJ+sdSYNx+zrTcA7YZVZdcIJaWXtLU4d21LIrCIEiLtEM\n",
       "0Tq0tU6SS3VzAU0sQPxwnWwibt4AiGWzH/KXJZ7IDHQdRBKk9URnAkKFlMMED1nYgmx71drnU27A\n",
       "PR/Vbh7/RS81i1xlmgwLrMGdwhYznMmoIjNPOCiSOhq9g2OdH94aiSn4S3dcD8GXVjo0wU6HrISa\n",
       "GjxZKQ/q5BNyYL1V3KPI9kwEaYW3DujuPohxlgdXN78dhaLKz9IrvlYwDPdWXkRf3ZozqIlK/P48\n",
       "kwkp7aZ9SYi2YKZwbcBGx+BgHN7zmvP/Yc8xOuCCA+9/+ZDEnFoAHdKYNf2V8RKm1D46SLRm4S3b\n",
       "Q2l2YCrjCMHpYs2RGqlsIdvuvIreIHsyUo2w/QaG7UBfSZ1nHx0tF+KNsLeeRPaOVW+rNYth7Tyy\n",
       "wRupnxwEPJX9ywxayCREq8x+FcgK/GxYJlnk3W+68Vdf6I3R686un9lfpARwnSprFcDJuVh5xcoS\n",
       "ZOHn2bwoU5z0XQPtW4EnvhEklyOSIQ23AKCUz+CqKCsEfpBvrJw9d53mLD6XPXYYZDVDzFuh7uqc\n",
       "cAtQY3S3iuGYpzj1Xjx2Ku1ymOgJ71Jg3Wa+KKSOmr3mSEker5oEp/Adr+0U0aYykYNBtKjnPQK4\n",
       "9CmCtdN43TMal0tgp5U/bs7rfTojCjxlcDCCL6UOTNqN4NM1tOqeo8dd1jKz2kzOANUuApLV1QmN\n",
       "EQezxqc7js45extQoJIGnJoflShWLemF2bg2OzjIT19C9xs1aMPXkNob/PBj+OSW9ZAi4Ru2fKv4\n",
       "aQORY6+JWAwCOucST7OwMbFDgbLzxn1WUWvC6XT76VMGNN9YCvrbIr/BUYmjnbUbhKwFAlxDCUf7\n",
       "XDEgtsOTe/zoWfJqFceoGcgXK3lOpA6ZSCO23X2BNNQ3wkFSajJqbT41R1/VhcOW3YZheapcva7R\n",
       "SBww/wBpCURP1cVv6KG7TYPJBpT1npnrp1ePYA4TqSWOwLekW7YjoLcBKsPTNgyhjBy4vrzTEYt2\n",
       "P+anFfCIYuXYqmWC9QROW4jJ7vVWDvdBSN5PN5Vo0YbuIsvASKbu1qSiks5WGeuQ2yBZ2+xmkof6\n",
       "jgjk1m3n1MPt9jsVU7IU/wFqlqK1PDD2xbnF0iGZ6XaFI13eIJIa6YNGOTFQKiFEbQ0L2zwq5wkf\n",
       "Ni+R6vqzJy69pTQXAFikuwK4MgNanXevK3fAYoJk+/++OZ0Ldjaz/luv72wOTb7aZoSK16tWwsDP\n",
       "YvBycxCxle0gQfnPU7Sn2oPJx5XVoqpax0ocGn7prLI9y2C6+mQCh9/v1SZuZgODDY5ozpFfjm5/\n",
       "0afT6O6MniJHxYs+zyg8kPkp1A1e8QY2+RM39+zCGz1Fy/5nLCJbd7fJQnb6vab253GJqvUra4z8\n",
       "IRWtHY3L47nlvJoZPnmO+eW5YooAMTRdCpsiU5zxN6u8Q/8zeFAKZ1pgIZcZTvMqCVfmD7lOSRQm\n",
       "euD27J9uoOkPAlkEV/Zk2u9Uwfyv8p1WDdHKj6us/MIArlN7UltR69IZ3InP4/GfJn4rIV1IBp1i\n",
       "OibtvKGdmrs8HnhPisbdqGQqiktswTj7Ag/7+yeupykrEmX+vFXTfkT8hLmvCbOe+7oh5HuOBu/l\n",
       "ai36WQnrQQh6gnRmapM5HSkAtrTP9yPLtjFoparNpkVcBdBMseYJGtPgQgQHQt/nJDdx1l7bXz9H\n",
       "0l2DSLNUEEywy8zpy4XyyX8U65u2J/Mt8QqUXcJqdxyxsofVhwo5QBQyz2lNVDeMJOuQ99GyX19B\n",
       "wxwunbC1UWi9I4VcAjCIWYrdZb0WfdS5QM4idebj2hwFErf28zdL0T2vQzgpVWp4Rffs2EZywhXm\n",
       "WVj7yzOA7mWmfsxBErDEMKDHMs+7MiZkN4Nw5dKyLJJutUXjrplZhebqlTer0DghUeR8xlClHQNV\n",
       "L7Yh2IhrdTQfF5a3Xcv/PKFlqyZbHMyA6UJ7thoSydC6qswxCR/dgeNmMjiK4bd6tzPNh2gk9DqD\n",
       "mdwRq/0JcWG3faV64OAroaZUSOTn21FuBCY45//jCFnqvEEe/Jh402kHaVCCSMaK3Y8yHyBMkqea\n",
       "NIn3h5y2aXAbSaWY6GLOkyw8PSdLL2JHfEC2epNWuN5hVYsc2mAURXzoilT97rGO//lqG2YsO/ss\n",
       "Ky+JtCG7JQb/2rF3/cQLkWtHCltdh0JDxyFZyu/H43uMx2UhZ/olSwUA9yoSWC9V7KlaTXFGbVY7\n",
       "miINrse9QZnYEQtS2nPdex7X/90OzNbaVFFMWyeYkpqtcCcX/FVnX4tQlJzJsg2y1GP1TpxYXQ4z\n",
       "8L0BRTYluVNeOrGZHatq8uT9eaU2PCcvgdK9DaxaxgfdefArvSWBO/qTljzEFJTSOPfhsilgKmJH\n",
       "B+f5zwvJd3aKVQ02BxvUO8TYko6myI5F/9BWc2IV22keW7fjoZw8Bd9XahSum7lkoSfQjiVRHUpu\n",
       "1/zikl9MAs1h7jwEc0OkDsXadW54R9R31I5IX/r+5/BUZebmU/KWr9CPMojb2N2kLVPSuWZZLEAf\n",
       "meUAIC39lkTi1TcTWfkHdpjT1IoZ3JHXqBGHEE+dR1zL+BLtlC5pTSIu7ECbU8TXRClJhpPDr2X+\n",
       "G0ARtN9GFp7VS6U69kikE/CuIva9+2rQxXQEbiwoxxdlAM90xKtGirrOkAI+avmbGLrEUWO5BpAQ\n",
       "/Ip0NXi67IbZ3hkuXxZa0xwJq4IOyH/tW9+ekmfvVMt/fmj0GyAhqtUvSdeZ6FXGFgk5JZV9zLTj\n",
       "VLunYSwYaRSlYVL/5ZJZ3MwSuPFZCG4gExb9Kn2JV66UvlDIg8EZeLUjjC/8NOX020wsb8Jmr+io\n",
       "7wZEl8krGh2Ki0Cf1DOSiolc1FxWZ7mcUyJi9AOqBsAj2uLzhDqXEnCPsMj6ZYm+RiZHNR2OPyaU\n",
       "MGdHOr5UA8RP/E/+KaAKZqKuVhjmgaXGYFMDDT7+KbHU0fnKhYQLNiw51vdQKfkFRkQDGN/cBNUf\n",
       "csCZ6j+s04pU6kDB76Sgg0rnr+ZorCuOAKSrBz0QYMVEsrVRW2sL/jRbqZtt3cUnYBAXfpggM5nJ\n",
       "Nl8oKYCBajhwfug3zfAUljAr7+LYfv3Nh5oxQEQ7z9lDGeqqvWDfVEQi28amN+cCHTjOQrh1YX39\n",
       "tUlHu71BIYF6HFrSK18QdWiqWekA57I3n5EY7Lfo+NlJT+uWlDog2ORGkE2BSN8jSZ7OwWeIi/KG\n",
       "Fir9SbMUmQQ/Hjj4AkczjNverNrapxy60ThNX1HraNKAyO1KjYHm6Rwm/G6FWmdPKSr/0xejRLBD\n",
       "ybJLWLYHghshCxFGEDYHOQpNSXsyqdDcyzo43InCFDPBXEmDEYlfyGV3mSIYYauoh0d48NrEEyHv\n",
       "0kj+VIQfhmykRsoKEsmlRoAw1spPMNBGnBzh4NHCPpFwKzSdDrOPECjX5qphtp3TExozUYnrEwDT\n",
       "lja7QNpjVUGJ6fH1VxguIMaEI5H21QVJ72w03fDpiacpiiolubDMifaMxnMWXZ/r43uUmn/+Uwsz\n",
       "eg2b+Aut2yaJ+6A/ULvb9WTI+1+lvmgJa/+FlCtxb3t4gW2gZr/0AAJwGzqXeQhSD4FcsH4pqktS\n",
       "nEhNYkMhKNxf6leaGi4H24My6Ve9K/0kZGpj4CKHo+yjnUXeLht78Dpd3uUadUTIXDn8TTMeJ9dZ\n",
       "K7wiORWdZga4FqdeyZe8dTpiUHXJKCWm2aqxr9s2/DMhsKP3mQF8+97Q6XOoBEvFzsD/FmdETtn+\n",
       "RP/So8LSO+wMePGpPqjkXVmpeoQawy6GLEs8TT+NuUy6vyQj+zNLFcF56n7CQa8Do/Y/sx9KAe54\n",
       "wygl9CT3tBncDECL013BKa6KI9ahxdOQAyud7JmH0SwWyWaX3XzxHCpVnsMBtFGuzJFSUEpj8I58\n",
       "mgHgltd7s/eWgwgtMQJUG1ZdoJHyRnlxVZtaKrp3jCWd8CFO/FgUYNvPkeLUrOi0RIuJZuuR1QEX\n",
       "wyVdKgqRB5tvlvlnJ27mfyyX8uEQfduGFN7LNXAZPY7PU7AFnYbbBktAjeBi9cy+AmzK9I+z4fDv\n",
       "DYZCTrIC+aPbGQk8dOEQtAv8VZfz6CPA8lTwQAu0NbX11BCAueirwlpChqmPmOFfZOxrW+Ei+UIF\n",
       "e284HXJEuaItkYcQKvCL8SKY1mS5RtR30627Ka5Hm6n2UESxyOA5wVeE5gXKGwr5MgbPgQZ9/dMx\n",
       "as6VJGGgAj0z/Rpgf6OEEuLhK+u4vbBT3eYZzc4NzM8P0GBiT8IZwQ54nVEyFw+igcKE6fwm8p3v\n",
       "+slooaee3Msjhlnd/4zvsVCiJEXT0t2CAvU4o7n4i9UgLv8NYVNi8UU5QzYn5XWYd4A+fhDaSZ/u\n",
       "DYVWQidxTzU/BQbFWXNwOOBNtPmt3aTRAi4Eu2VvaKPNtEZQrmui51zsEc8bP9f1QLlfZpkKORgk\n",
       "vTwKfhFr3CCIsE1M5w1WIe9vbrLA/Uv4l947eHzaqG9h4UPIvvXxKxKD9EEiUAZtH3rTkwBcYzyq\n",
       "zmFS0x9K5wPH79MX47SaOx3/RjRidL56y2O/xPfAAp/QtwANc6sQA3xVhwAAAjVBmiRsQv/+jLAG\n",
       "2NIunF3IBGtD+kPdOy1shFRqj3Oa+A0Jcejv3Gvo1LBHFKfkKHd+VrnTi3utMNPnIsgVc0Ko4Ow+\n",
       "E0a44MrMHmQDWytlrt95FWzZesbd1kt3mNovsAvKvza3lHukfQoECSYa1sJ0DJrY7oOFnK23DxJt\n",
       "aKVbL+t9K16bJTMugRprkhR3PzXqVf9tsasIID33MUPaV6DdFO75omo6YW3j2o9d0yS1bfibzF0J\n",
       "5nNOXZ2qnUEHl0O/QhJqseO30uBgRE/12TuIPfE6f9QAU148qDEhhmMM6jBH1gwNXOw8dDsXDEC4\n",
       "fhQT5i3wUTS/Vo/YhlQQ/TMshfuGI1KsVDGklk9uHWfuTryv3QwmRL7qzvmJkefjL1wztzftivDP\n",
       "dBq7wmWSCtccqQaFlidlA1USnhXtCEyZ87Roz6bLKnB2oBJZT0lUaTK51O+M+aRtW1Z9Ir4I3k1Y\n",
       "gAoSQrPd5Bjj2qbdjSy4CNmcC3+WqQx+mGbYR5KWlyuGcsgu00mQGM1IIGpbhslN7kVPmIQ4S/CN\n",
       "wDm7gNaQySJyrB/+cdAGlmUnA0aWnH0DB//wGEjOu7uWrvWOZh95bwtknN8sqXUzz64C8HN6DhCf\n",
       "TRw6YCJwqugwprpOfMd1mGslpA/yo4FATodQSWrKgzpF9LCrUEHKi5gut4atK1OhLE0vlXVtuDfn\n",
       "j6RgGZkacLVM00GR8zoCV54BKgHnTJBxRjiMs11DMqWOM26GH8e2KB0QAAAARUGeQniEfwR92Ld6\n",
       "YKuqd06KFHnoiJ0ik/NTfuPqmr81hv9LVYYYUlRVv9+6wAsjuEgRptdNwcTefKK6wG103474osC5\n",
       "gQAAAD8BnmF0R/8G7LbNe7LAWyiL/aQx/jDCUZFdrwGp3CoglQAJ27DXIOP5xBHVRNlmEKlQaO1Z\n",
       "mNCZAwGyo7PmjMgAAAAjAZ5jakf/BvJqPR3xId2vFaYAH4ftOrwSRd8zkT2gI9XAccEAAAC7QZpo\n",
       "SahBaJlMCF///oywArbLFxEAAzeVvvz4eDGZECpgW/bheJoFqH6gd6M9LSKF0FvmHaDCe8RyUv8m\n",
       "xGnC7tMSfvkEfrwGa6mO62QBejkM9oPxqrD0Bh904K/w/ajuNTyq3I3/LILb324Qt1usfW8sdpwU\n",
       "W1P+BkbhiilOr/j/eXiwZ8ZLHKyr9qh2KHbEw78Ys4snhWI2dyJxIUCsnhXWsyiexRNwZa1OGJWp\n",
       "7x03Gz40fC0rzbfElQAAADNBnoZFESwj/wSaaOllqly0uBj8x99hYVK3TWNgtADaya6E+J974VGr\n",
       "SNHy7ySaHUZMyokAAAAnAZ6ldEf/Buy32z7kU9tku6wFtbrAAavMeVy500d4V9HeQ/VAZByxAAAA\n",
       "IgGep2pH/wbyaj0d8SHUAuHQA3JcZScfp445QZx1lLjXSLwAAACRQZqsSahBbJlMCF///oywAADP\n",
       "PToANv1KEuDCpgoukJDston4+XGdAamD5tTcfV4Mzy+MVV9QsBbVUWv1ZO1wlE8lFd4leEIVYlcv\n",
       "D/TSMR+NXj2KEDP9jI4XwcXsbfVzgTwHPGRdpUBRIZQb9FJhBbxYp1Syh8vuuDarPvt8Tv7MXO44\n",
       "SEMqDEthCmbN1/79OAAAACtBnspFFSwj/wSaaOllnzWmrtNP347biQKP8AC10guZ6y+29eI+fMau\n",
       "FKrhAAAAIgGe6XRH/wbst8WlnbeJgrtcwALig27V36tdnL7qnlpwMuAAAAAlAZ7rakf/BvJqPR3x\n",
       "M71f0AFt7v0L84bMwaCJIZ3Vw9xEIOrMcAAAADVBmu1JqEFsmUwIZ//+nhAAAM27ccAmGRjRlcpU\n",
       "sZ2K0nX1vEigGhEdz4rOYAO2Rylwn55UOQAAAHhBmxFJ4QpSZTAhf/6MsAABlHZkALSaS7D1indc\n",
       "jC47732DvLsKRrL210S8RhQYAQ+bT/C9Hg6ltMUa4udBIzDOV4bpoOge04wRmjTO0Z86JNRZNIx8\n",
       "qzZqWLZrDKmvOc2EVPI6IL1NFZ2sISulbMD75hrk6eazuU0AAAAtQZ8vRTRMI/8EmbTbPDdZTCEY\n",
       "VxHR5dDil1bMwAJUR8UUAnp57a/xOfNIeiyhAAAAIwGfTnRH/wbst8WlnbUdK8mAC6A211KTPFJf\n",
       "GWye8vf5+EuAAAAAGQGfUGpH/wbyaj0d8VaSbliTPWmV9TqvKXAAAABtQZtVSahBaJlMCF///oyw\n",
       "AAGUEET4sIA5rbtIaIMQsxrzzXfEcumL9fUhFpqn9fBoCdM1TJ1d9sqzuel1C4q8s6LyDVWiuSJw\n",
       "Pfo+CrGjL6N4OjVdpq5wVV0ef8H/TfHPeSTdBNgvni47XwY0qQAAACpBn3NFESwj/wSaaOllnzWm\n",
       "rtNP35BagoAEqKfuMprL5SQImw+5otCprqcAAAAVAZ+SdEf/Buy3xaWdf2Jhoot5d41gAAAAIQGf\n",
       "lGpH/wbyaj0d8VZNqHkSAC1QAHbjvGPOH3kUne3LgQAAAGdBm5lJqEFsmUwIX//+jLAAAxTtgICS\n",
       "9MGmQgCQhDjgZ5Vz74qpRjqJZJWbK06ZoKp4mpEszvw6QMRO4krYMqMhO1TVWgqNKV8NMgX4JwYo\n",
       "Hl6qBYYpVEvz44AKqwzITvPIabkGch+MAAAAK0Gft0UVLCP/BJpo6WWfNaau00/fur/dlgwAC3Bx\n",
       "zvLirQSu39WcSSHo04EAAAAeAZ/WdEf/Buy3xaWd+X9pAAnbpfe5w0mrdvg0soMFAAAAIgGf2GpH\n",
       "/wbyaj0d8c662F0ABMtXUqeQP1XhaifuLRwVpjgAAABhQZvdSahBbJlMCFf//jhAAAvrs8dAJeSh\n",
       "vGK+xsPCxNcULcpibsd5F7rLL5Raax4MQPNE1vmF98ua07LtMkaLFa+mLKnL4Pi/duLhGSQpsZ7z\n",
       "/dMPgqiDT3/0izqfJlag4QAAACxBn/tFFSwj/wSaaOllnzWmrtNP37rvDLsAC6Ak29tPVp8WfRyj\n",
       "f1S5r/jWFgAAACIBnhp0R/8G7LfFpZ7xGUAC6irrpM1FjOIGBAvj4HrbwH6xAAAAIgGeHGpH/wby\n",
       "aj0d8cFchAAWgSgh2bDw30c3LHHTw3gq6HEAAAA7QZoeSahBbJlMCF///oywAAMU6oICV70kz3Uo\n",
       "TAoyA+rZA+H/4CIXoCZnZ96JnF93hhdrgEfO59A0qMAAAAAzQZo/SeEKUmUwIX/+jLAAAwENJAAU\n",
       "G2TsjXgRSORiewfpdawam0p+jL2r7n4fjSZigs+6AAAAVUGaQ0nhDomUwIX//oywAAYB2ZAC1nrh\n",
       "MlJsuXzt4eU/+u4etmsrWqM6fh3HkHVp9Z/pehaW5/x2pfhKKRupIwaSD35nqAv++PebukMgg4KL\n",
       "H5xnG9sAAAAwQZ5hRRE8I/8EmbTbPDdZTCEYWAZywDAk8AFpYTv+1tPMw7vf0rQ6ZsPudKHIejTg\n",
       "AAAAHwGegHRH/wbst8WlntO1VABNLWDRfbEdCeDfmwg/6OEAAAAgAZ6Cakf/BvJqPVorMCh3MwAH\n",
       "1Q9oIvC5Won7i0cFaY4AAABfQZqHSahBaJlMCFf//jhAABc0Xmk4wFDO4/DTIjUUlmOvobjxzxug\n",
       "4A7jf8K08Xr4o3eJmhSH5+BYKI8Y+FnhMBbgIREtucD92xg+tqrQw1q+f740lGhdt64eyBNqc4EA\n",
       "AAAsQZ6lRREsI/8EmmjpZZ81pq7TVbNqXAAJpjcAdnPx0n0JNpSetydZR7SHo7cAAAAiAZ7EdEf/\n",
       "Buy3xfBPXwgALoAXkgDvGGViduMh1sMgzIVnoQAAABgBnsZqR/8G8mo9UCPfRgstx8VZLXulEXEA\n",
       "AAApQZrISahBbJlMCF///oywAAXbL2jADliow6NGY0b36JSm4Qw/eqjz8ycAAAA+QZrpSeEKUmUw\n",
       "IZ/+nhAABc9LnAF/t2rKgcrPUJa4N7MX4GD9YHW2iUqD5Jc9Y5e1lPZx4XtJJJEBNlcLZUAAAAA/\n",
       "QZsNSeEOiZTAhn/+nhAABc3WJEwBd3gCrc4SGQ1kux6ZeqRSPuiGjRxQCXdmOi4vWu7r/LDFNmq9\n",
       "TJWtEFlbAAAAI0GfK0URPCP/BJm02zw3WUwhGFfeThKyCWMwoYTjW9/ZcIKAAAAAFQGfSnRH/wbs\n",
       "t8XgKvympBWoMLugwAAAABABn0xqR/8G8mo8BYsN+HUjAAAAVUGbUUmoQWiZTAhn//6eEAALVlfH\n",
       "AFapbpH76oNYrUrRoL8nI85Z9UD7TnLCkGQ2922d/Rm2R0UOWWfHD6xaFilWKOU6Izw/5oYDa61w\n",
       "+PIB34CKQ5cAAAAlQZ9vRREsI/8EmmjpZZ81pq7TdH4DkB7RAB474+kPIPya++KTlwAAABQBn450\n",
       "R/8G7LfF274lhCz2Dve7wAAAABQBn5BqR/8G8mo9Rx9HUXD1+aC7wAAAAEZBm5VJqEFsmUwIZ//+\n",
       "nhAAC1ZOjAFW5eA8CmXd8NNbwgheJ2fKXKp9HASpAoS7LZ+ZJmfJKrPsEDH+TM+nbYwLlnI/ELM/\n",
       "AAAAKEGfs0UVLCP/BJpo6WWfNaau03T5BsALW6k9EkcRq8hUHqWaUdRobsAAAAAaAZ/SdEf/Buy3\n",
       "x7l10ACdUb9QOcS7gV2VgrQAAAAPAZ/Uakf/BvJqPAPehTvtAAAANkGb2UmoQWyZTAhn//6eEAAL\n",
       "Vmg8AVqlqicOHOwyeMnUrlUzQa/wVKsSj71CPZ4LSgOKp2RFlAAAACNBn/dFFSwj/wSaaOllnzWm\n",
       "rtNzh2lYAC06vI5iHyZyvKmvJwAAABEBnhZ0R/8G7LfHtKRBhPytyQAAAA8BnhhqR/8G8mo8A96F\n",
       "O+wAAAA7QZodSahBbJlMCGf//p4QAAtWce4AVzmGxguUSFMvR0k4W7iI8kX4XF9WYwzYuI9xdZ/B\n",
       "4LcxEBS58f8AAAAnQZ47RRUsI/8EmmjpZZ81pq7TdK7dAAlSAXmegN59f8WzGWkjjFDgAAAADwGe\n",
       "WnRH/wbst8QFzYKbLQAAABEBnlxqR/8G8mo+fYRBcQvKbQAAAFhBmkFJqEFsmUwIZ//+nhAAFj33\n",
       "8kQkrgP03gtIzkLavFnLS2ShvTjrtb5ON+cFcA464CWeuUjLQdArs7NmMFcdgZlkVo3BIauV0im/\n",
       "IFrupKRZE6bOL0l4AAAAKEGef0UVLCP/BJpo6WWfNaau07XWVV4a+oAAtUaoa8Up+/NMtXJR6QsA\n",
       "AAASAZ6edEf/Buy3y2k8keXyROY5AAAAEgGegGpH/wbyakEfApl24uC5jgAAAB5BmoVJqEFsmUwI\n",
       "Z//+nhAAFjOrcoIuARcPj1YpxJ0AAAAgQZ6jRRUsI/8EmmjpZZ81pq7Ttj6oCjF/xjMxx84ko4AA\n",
       "AAATAZ7CdEf/Buy3y2k7PDCeX1NhgQAAABMBnsRqR/8G8mpBHv8AYk8vz1RhAAAAL0GayUmoQWyZ\n",
       "TAhn//6eEAAWF727WgqSMAcUbPDbhCS6mGM/Lo2sbTad312PELaBAAAAH0Ge50UVLCP/BJpo6WWf\n",
       "Naau07Y+AlnbBCxR+zsGYcEAAAATAZ8GdEf/Buy3y2kP2Ol/l9icYAAAABUBnwhqR/8G8mpBHwJC\n",
       "IOvmEuFNiDAAAAAxQZsNSahBbJlMCGf//p4QABYXXG3kxcPAHMPuEbQsLRnkfd3aVHTFbPNzAls3\n",
       "AnLC2wAAACFBnytFFSwj/wSaaOllnzWmrtO2PPL6FRpOE219AlOaz4AAAAAUAZ9KdEf/Buy3y2lg\n",
       "OplbfRf94UAAAAASAZ9Makf/BvJqQR8WoYt/Lv4RAAAALEGbUUmoQWyZTAhn//6eEAAWMqm/W7YA\n",
       "dnaIgOzz8zr2eIr8reQDWCl0iRSRAAAAIEGfb0UVLCP/BJpo6WWfNaau1I0cAk39dVEgL8/H7RIx\n",
       "AAAAFAGfjnRH/wbst8tpYDqZW30X/eFAAAAAFgGfkGpH/wbyakWvjGa5EsfCsBc7UGgAAAAkQZuV\n",
       "SahBbJlMCGf//p4QABWoq60p3OAAogqfQOFYQ+htycS9AAAAHUGfs0UVLCP/BJpo6WWfNaau07Y8\n",
       "jgqgyMdhJXW9AAAAFAGf0nRH/wbst8tpYGarrzcZFbggAAAAFAGf1GpH/wbyakEfFmU1fcseVUAh\n",
       "AAAAKUGb2UmoQWyZTAhn//6eEAAVopn6h9+4BFLPDJ4I1d48DOPdLfbYRC7gAAAAIEGf90UVLCP/\n",
       "BJpo6WWfNaau07Y8bnINYqqqRXsH+7mxAAAAEAGeFnRH/wbst8tpSH2HbzUAAAAQAZ4Yakf/BvJq\n",
       "QR8If2Dp2wAAADlBmh1JqEFsmUwIZ//+nhAAKxYUqSrkBydD9a7HjHYGSDpEVx4zY3mexqgAN7lz\n",
       "UgJsA/P5wXYcQcEAAAAeQZ47RRUsI/8EmmjpZZ81pq7UkXjTG7QuVRi87SG9AAAAEAGeWnRH/wbs\n",
       "t8tpSH2HbzUAAAATAZ5cakf/BvJqRapnKQtBRnIShQAAAB9BmkFJqEFsmUwIZ//+nhAAKyCqjn/9\n",
       "560VtD7KzEfAAAAAHkGef0UVLCP/BJpo6WWfNaau1IaXRrBuwRjsIg60IAAAABUBnp50R/8G7LfR\n",
       "+4HCWLxeCdpAISsAAAAUAZ6Aakf/BvJqRaTcZi2vzV6U3CAAAAAiQZqFSahBbJlMCGf//p4QACsW\n",
       "FKfyAA3sDOrTzkgB6iC7gQAAAB5BnqNFFSwj/wSaaOllnzWmrtSC6j1eWSQQzxKgIPwAAAAQAZ7C\n",
       "dEf/Buy3y2lIfYdvNQAAABABnsRqR/8G8mpBHwh/YOnbAAAANEGayUmoQWyZTAhn//6eEAArFhSo\n",
       "MOAQ7k5bky5T9o2ddABOAiomdmYSYjHCnbmdNg8mFBEAAAAeQZ7nRRUsI/8EmmjpZZ81pq7UjDNs\n",
       "4/UQlvYSP/ehAAAAEAGfBnRH/wbst8tpSH2HbzQAAAAQAZ8Iakf/BvJqQR8If2Dp2wAAACxBmw1J\n",
       "qEFsmUwIZ//+nhAAKxYUqDDgEOLd2+ngoFE32oF2RwafMJw/qBYLuQAAABxBnytFFSwj/wSaaOll\n",
       "nzWmrtRzHGX4qmyXvj+gAAAAEAGfSnRH/wbst8tpSH2HbzQAAAAQAZ9Makf/BvJqQR8If2Dp2wAA\n",
       "AC9Bm1FJqEFsmUwIZ//+nhAAK0XBxuMXpADVYmbjbA2v0UukCnshfoxGaRdIuNWi8wAAABxBn29F\n",
       "FSwj/wSaaOllnzWmrtRxpLSITjxL3yVhAAAAEAGfjnRH/wbst8tpSH2HbzQAAAASAZ+Qakf/BvJq\n",
       "RW+Ms7rFZX7MAAAAJ0GblUmoQWyZTAhn//6eEAArUybp/Y+ADOXMmzUe53fmylSVZc+EPQAAAB5B\n",
       "n7NFFSwj/wSaaOllnzWmrtSOuEcDZMgU9eOeh5wAAAATAZ/SdEf/Buy30cTedCrCT9BkhAAAABMB\n",
       "n9RqR/8G8mpFZJSqhcVis3iDAAAAIkGb2UmoQWyZTAhn//6eEAAqF3+u0fOAAg4L5/RA8yScJuAA\n",
       "AAAeQZ/3RRUsI/8EmmjpZZ81pq7Ucqo8gjEAWvUJH/gxAAAAEAGeFnRH/wbst8tpSH2HbzUAAAAQ\n",
       "AZ4Yakf/BvJqQR8If2Dp2wAAACBBmh1JqEFsmUwIZ//+nhAAKiXz4bzgAIMMGpdBiogwIQAAAB5B\n",
       "njtFFSwj/wSaaOllnzWmrtRyqjyCMQBa9Qkf+DAAAAAQAZ5adEf/Buy3y2lIfYdvNQAAABABnlxq\n",
       "R/8G8mpBHwh/YOnbAAAAJkGaQUmoQWyZTAhn//6eEAAp9pIFv3AHKF6cFC7KJYAMs7k3hEGBAAAA\n",
       "GkGef0UVLCP/BJpo6WWfNaau07Y6DdRRabIuAAAAEAGennRH/wbst8tpSH2HbzUAAAAQAZ6Aakf/\n",
       "BvJqQR8If2Dp2wAAACZBmoVJqEFsmUwIZ//+nhAAKiXz3fj5QBf6jNPZkXou9ZTvDFhvQQAAABpB\n",
       "nqNFFSwj/wSaaOllnzWmrtO2Og3UUWmyLgAAABABnsJ0R/8G7LfLaUh9h281AAAAEAGexGpH/wby\n",
       "akEfCH9g6dsAAAArQZrJSahBbJlMCGf//p4QACoqXAVe/cAbpHovHACKaIZlj/qAn0aNMRBgQQAA\n",
       "ABpBnudFFSwj/wSaaOllnzWmrtO2Og3UUWmyLwAAABABnwZ0R/8G7LfLaUh9h280AAAAEAGfCGpH\n",
       "/wbyakEfCH9g6dsAAAAqQZsNSahBbJlMCGf//p4QACoxb1fvv3AG/FYc0O0H8eUzahvl1ybJBYb1\n",
       "AAAAGkGfK0UVLCP/BJpo6WWfNaau07Y6DdRRabIuAAAAEAGfSnRH/wbst8tpSH2HbzQAAAAQAZ9M\n",
       "akf/BvJqQR8If2Dp2wAAAC5Bm1FJqEFsmUwIZ//+nhAAKfENAb93D9wCWSRa+73zE0UWmW4FN2ld\n",
       "UyeCIMCBAAAAGkGfb0UVLCP/BJpo6WWfNaau07Y6DdRRabIvAAAAEAGfjnRH/wbst8tpSH2HbzQA\n",
       "AAAQAZ+Qakf/BvJqQR8If2Dp2wAAAC9Bm5VJqEFsmUwIZ//+nhAAKheCza9B2OAASaTh8vRJQ+Gc\n",
       "IV6WvQxTdoKqBsRBgQAAABpBn7NFFSwj/wSaaOllnzWmrtO2Og3UUWmyLgAAABABn9J0R/8G7LfL\n",
       "aUh9h280AAAAEAGf1GpH/wbyakEfCH9g6dsAAAAqQZvZSahBbJlMCGf//p4QAFQcpPIA5Rt/Hy1m\n",
       "aEmcb4Q7FXA6aamFpkGzAAAAG0Gf90UVLCP/BJpo6WWfNaau07Y+ut/Fs7RmTQAAABABnhZ0R/8G\n",
       "7LfLaUh9h281AAAAEgGeGGpH/wbyakVrKWhNisrq6AAAACRBmh1JqEFsmUwIZ//+nhAAU/F6AA6B\n",
       "uG9/UjvFX87yhtvHQoMAAAAaQZ47RRUsI/8EmmjpZZ81pq7TtjoN1FFpsi4AAAAQAZ5adEf/Buy3\n",
       "y2lIfYdvNQAAABABnlxqR/8G8mpBHwh/YOnbAAAALEGaQUmoQWyZTAhn//6eEABT8bjgDlG7Vh5m\n",
       "ienJBCdS1fKY7IUsGrpezQ3oAAAAHEGef0UVLCP/BJpo6WWfNaau1HTo0sEt8S+0b0AAAAAQAZ6e\n",
       "dEf/Buy3y2lIfYdvNQAAABABnoBqR/8G8mpBHwh/YOnbAAAAJEGahUmoQWyZTAhn//6eEABT8bjg\n",
       "DkvclewJYAO7C6HOtOCbgQAAABpBnqNFFSwj/wSaaOllnzWmrtO2Og3UUWmyLgAAABABnsJ0R/8G\n",
       "7LfLaUh9h281AAAAEAGexGpH/wbyakEfCH9g6dsAAAAkQZrJSahBbJlMCGf//p4QAFPx2lAF+Mz0\n",
       "5vuMMmK0jUwIRAwJAAAAGkGe50UVLCP/BJpo6WWfNaau07Y6DdRRabIvAAAAEAGfBnRH/wbst8tp\n",
       "SH2HbzQAAAAQAZ8Iakf/BvJqQR8If2Dp2wAAACRBmw1JqEFsmUwIZ//+nhAAU/G44A5RedBlGC6i\n",
       "HtVlIE11gYEAAAAaQZ8rRRUsI/8EmmjpZZ81pq7TtjoN1FFpsi4AAAAQAZ9KdEf/Buy3y2lIfYdv\n",
       "NAAAABABn0xqR/8G8mpBHwh/YOnbAAAAH0GbUUmoQWyZTAhn//6eEABT8XoADoGRRmwaDa6Tgm8A\n",
       "AAAaQZ9vRRUsI/8EmmjpZZ81pq7TtjoN1FFpsi8AAAAQAZ+OdEf/Buy3y2lIfYdvNAAAABABn5Bq\n",
       "R/8G8mpBHwh/YOnbAAAAI0GblUmoQWyZTAhn//6eEABT8bjgDlG8En7zsh9+yBpRCwMDAAAAGkGf\n",
       "s0UVLCP/BJpo6WWfNaau07Y6DdRRabIuAAAAEAGf0nRH/wbst8tpSH2HbzQAAAAQAZ/Uakf/BvJq\n",
       "QR8If2Dp2wAAACVBm9lJqEFsmUwIZ//+nhAAU/G44BNJfwPBCeaKsoXTSWxoFg3oAAAAGkGf90UV\n",
       "LCP/BJpo6WWfNaau07Y6DdRRabIvAAAAEAGeFnRH/wbst8tpSH2HbzUAAAAQAZ4Yakf/BvJqQR8I\n",
       "f2Dp2wAAACFBmh1JqEFsmUwIZ//+nhAAU/F6ABQDH8R8JBQS6BFg3oEAAAAaQZ47RRUsI/8Emmjp\n",
       "ZZ81pq7TtjoN1FFpsi4AAAAQAZ5adEf/Buy3y2lIfYdvNQAAABABnlxqR/8G8mpBHwh/YOnbAAAA\n",
       "I0GaQUmoQWyZTAhn//6eEABT8OuASI9OoizY+6b3efczxYGBAAAAGkGef0UVLCP/BJpo6WWfNaau\n",
       "07Y6DdRRabIuAAAAEAGennRH/wbst8tpSH2HbzUAAAAQAZ6Aakf/BvJqQR8If2Dp2wAAABxBmoVJ\n",
       "qEFsmUwIZ//+nhAAU/DrgERMUVIyogYFAAAAGkGeo0UVLCP/BJpo6WWfNaau07Y6DdRRabIuAAAA\n",
       "EAGewnRH/wbst8tpSH2HbzUAAAAQAZ7Eakf/BvJqQR8If2Dp2wAAACNBmslJqEFsmUwIZ//+nhAA\n",
       "U/DrgE0XXFSC6UUwlVjRWiwb0QAAABpBnudFFSwj/wSaaOllnzWmrtO2Og3UUWmyLwAAABABnwZ0\n",
       "R/8G7LfLaUh9h280AAAAEAGfCGpH/wbyakEfCH9g6dsAAAAeQZsNSahBbJlMCGf//p4QAFPx2lAI\n",
       "PyoY5GLJpwTdAAAAGkGfK0UVLCP/BJpo6WWfNaau07Y6DdRRabIuAAAAEAGfSnRH/wbst8tpSH2H\n",
       "bzQAAAAQAZ9Makf/BvJqQR8If2Dp2wAAAB5Bm1FJqEFsmUwIZ//+nhAAU/DrgEv0T5vRPkWFg3sA\n",
       "AAAaQZ9vRRUsI/8EmmjpZZ81pq7TtjoN1FFpsi8AAAAQAZ+OdEf/Buy3y2lIfYdvNAAAABABn5Bq\n",
       "R/8G8mpBHwh/YOnbAAAAE0GblUmoQWyZTAhn//6eEAAAB00AAAAaQZ+zRRUsI/8EmmjpZZ81pq7T\n",
       "tjoN1FFpsi4AAAAQAZ/SdEf/Buy3y2lIfYdvNAAAABABn9RqR/8G8mpBHwh/YOnbAAAAHkGb2Umo\n",
       "QWyZTAhn//6eEABT8OuASI9PWXf7ovEDAgAAABpBn/dFFSwj/wSaaOllnzWmrtO2Og3UUWmyLwAA\n",
       "ABABnhZ0R/8G7LfLaUh9h281AAAAEAGeGGpH/wbyakEfCH9g6dsAAAAcQZodSahBbJlMCGf//p4Q\n",
       "AFPw64BEW84NtU4JuQAAABpBnjtFFSwj/wSaaOllnzWmrtO2Og3UUWmyLgAAABABnlp0R/8G7LfL\n",
       "aUh9h281AAAAEAGeXGpH/wbyakEfCH9g6dsAAAAbQZpBSahBbJlMCGf//p4QAFPxegATpJYpRAwI\n",
       "AAAAGkGef0UVLCP/BJpo6WWfNaau07Y6DdRRabIuAAAAEAGennRH/wbst8tpSH2HbzUAAAAQAZ6A\n",
       "akf/BvJqQR8If2Dp2wAAABNBmoVJqEFsmUwIZ//+nhAAAAdNAAAAGkGeo0UVLCP/BJpo6WWfNaau\n",
       "07Y6DdRRabIuAAAAEAGewnRH/wbst8tpSH2HbzUAAAAQAZ7Eakf/BvJqQR8If2Dp2wAAAB5BmslJ\n",
       "qEFsmUwIZ//+nhAAU/DrgE0VpiNz8yiIGBEAAAAaQZ7nRRUsI/8EmmjpZZ81pq7TtjoN1FFpsi8A\n",
       "AAAQAZ8GdEf/Buy3y2lIfYdvNAAAABABnwhqR/8G8mpBHwh/YOnbAAAAHUGbDUmoQWyZTAhn//6e\n",
       "EABT8OuASI9PTD5YnBNxAAAAGkGfK0UVLCP/BJpo6WWfNaau07Y6DdRRabIuAAAAEAGfSnRH/wbs\n",
       "t8tpSH2HbzQAAAAQAZ9Makf/BvJqQR8If2Dp2wAAABNBm1FJqEFsmUwIZ//+nhAAAAdNAAAAGkGf\n",
       "b0UVLCP/BJpo6WWfNaau07Y6DdRRabIvAAAAEAGfjnRH/wbst8tpSH2HbzQAAAAQAZ+Qakf/BvJq\n",
       "QR8If2Dp2wAAAB5Bm5VJqEFsmUwIZ//+nhAAU/DrgErlRc5VdAoWDekAAAAaQZ+zRRUsI/8Emmjp\n",
       "ZZ81pq7TtjoN1FFpsi4AAAAQAZ/SdEf/Buy3y2lIfYdvNAAAABABn9RqR/8G8mpBHwh/YOnbAAAA\n",
       "E0Gb2UmoQWyZTAhn//6eEAAAB0wAAAAaQZ/3RRUsI/8EmmjpZZ81pq7TtjoN1FFpsi8AAAAQAZ4W\n",
       "dEf/Buy3y2lIfYdvNQAAABABnhhqR/8G8mpBHwh/YOnbAAA/LWWIggAP//73aJ8Cm1pDeoDklcUl\n",
       "20+B/6tncHyP6QMAAAMAAK6tMz+8WNhqAgRcU8lfHXXwyWY3uENgj4HKn3y1OBgSeNPqs5Cmenz7\n",
       "pT3KXZhvzA6t59jnr5fISbkfIAATVGWsXGojV/bNtQ4lRBKjTdC/J2eCDvirdJA4JlMLIRhkkD0c\n",
       "N/qk4bBHqbfrUHg3MGevqSmqTUvt2zrPYkGYfWZ7KnuZAhtpL4QK8s6/6NyDHpkOmMfrzmtr2DRF\n",
       "ogNHEG9QJFrQBnuNH4uUA4d1j7eBOsrPlgmHT/aFTK5+Mv8sAF+/TjL5bPsUVITAwqA+fcoAHOgB\n",
       "xFCp9zRwTh4GF4pYni0K8BFvuOnt9U9XrxR6fwVLjCp/VTA6K49v3r4wrI617mfid/3ZPoHYY/dg\n",
       "C5bthkCHvLmU6pCpp6qAtPa5L+rzHPWFMJ5AyKRdi35f4WaTuSKJ8jp/0yG4iwM57n0gxVYF2/at\n",
       "YcMMl4bCTFmabFSSokQkyOtpc8dRFg2FNvag2CSP5DbnGs+H2xMw+2PSc/DKDdnjYhCa6pN4vCw9\n",
       "B3S4CdSGfGefVGG9kubhadt6nH7EAGE5wzZ4Fry+f4JuUkPxPfTPxh2Bo5Y4bjAV4bpfGPAq8u7o\n",
       "YjURGWjJTAAyjF+50NJseMk9/bt2v1CDswRGTF1mrrIAwD+9BY5xSsY2ssAJNwQ8C7k0HCT/XUd4\n",
       "ZiTCw8iLgdO8EWQO4QSKZ5aHoR3jxlK/YAH1gNd6heIdoGQcc016O+M6XAWy/nJZaMBxQgA5i/o5\n",
       "eFMxzNyS7kyGvgQKHcTxRdUWIIgTfbkaMa2J0nGPISBhRZf9uat1C68IjZEPZlJnoQWWnSqVRSzy\n",
       "w4yqqvVU7r38piJ2gldq+Xk+wBwL5sIOgmtC0ZX8u+IuPOzNHLicNHGboQoYlDmo/5Tp3KziFCr5\n",
       "BqLMDCnM03kjgYao0Pgo5dkL1pnOzDyN1i10SABxXcyQbrTCwctLuoIEd1HKWF+m9HzcxMLfCip1\n",
       "xu+rfs4DrWsmj5y0AAb4Nkk0ktUbd2YjH3Bvywi8KDBc8A5rLyCGllL7gFRfe51UO4tRVHb+UZVV\n",
       "MK/+RDxRtJD1N38nYMDwY1buZ+kpTSgPKi0jyKPCmnMSqYAR6S93aSinW2NuzxQP1xqYIv+BbQbU\n",
       "zOo3EJdrjjEvRD0A9Zj1DAhk72NLLg0LdW9wNRYX2W3Q4ONeH7CecZogOVzVMUFy8AaE3qp2Rwf8\n",
       "ZqnAxigX8xLMlZC34mPCJRKu1TxRTO4DZP9AOI3EJ/sJ/TlpULQ8dFtHqg7bPb/eatXvkZBu+RJy\n",
       "j0kKe0orgWTafYUcK2/EVsjQmqzPmOReei3pEz2xSQ/9U7C4zzYX65xW/CpxofhDtwWP+GSas12Q\n",
       "WFxsEdRLPox5PlrVvy2KUWF3jCrI0ijbyjbZu5hQykyQgLZ6SoEcwPM6zA5U4wkJLbjg4AvidjII\n",
       "Tgb2b6qRezIEIAn1DsFRJf7RQ901GZm2eFmxcsEOgmGxG0lgqtmFooiZv4fBh8EWC1jgd/6IIlUd\n",
       "04cKAZKO0q8c2W8u5XLSsJdWSUtrOONC+gqtz7d8FG4FrxezfzLzglhBxXe5h55ceG5uWKDCYU8R\n",
       "3hDmMKlBfSSb6DtbWZDSQKnC/36OsOHjLIaa9voHe41pNwWl3Yb5v1ecyPl4az7A+Nb+I/wUN1By\n",
       "A+HeYf9LADLcxmeWCK26U7L+VxGOqZoK951UGSZDM6Y712NAzbNq6yg5P8i8fI5V7Rz7qgbvfbaE\n",
       "pCeB17s/VzrqJDWfxGVY4BaBKGP1du6FO+Fk900lOycdO92oKrGI2hBP2aIvuVfDVLknfRRGwX8m\n",
       "dytMRHcQZKZcEo+CD9+wKKTEHOp7/Nrx5H56e4eBrW6HpLNa0OH4Uf11F2Es0ZbS/sXRt6CZZvGf\n",
       "HcRwhuZbjAic9WAa6EsOJGt1GXMKsi/wUa3AWYfn2hEqPQmPd1HL6m8sDRGQvjoFbaCLeBVh7uID\n",
       "OGY6fp7i+MpqAr5qF7YrUeiRh2wCQoHFWgXmhV5iCPmb077UL4BngeA/jfjTSgYtVDsBtqRR28IN\n",
       "CVkz9WHfoGYtnXyPlZFt6pITMGN7P8VeGXTnZIJAqGMLIsDQv4ui07QvEzOC4yJBF4otEPeT3dfb\n",
       "HTb+qq0+gugEu6GJLBn4tA3E1GV29TNkxGyxfWMgmDjKUBk7bYK8AyFVKUGL0QzMaZxeltnHrAJm\n",
       "OdZ3mA4vQcFxsA7ap9G13GZgNmywENx7DS7VT8b+v5KPs3+5NjIAbhIlMeigKnFZEWzIvtMSp+QV\n",
       "hSK2OflDQjZtBAuIuIIrOrD2u+Hr8bS7Arf2B3k/Ky6r8BnpCXSh7RDdOXVx5psTWKpEfF6h1MZj\n",
       "V549Ua/5fie3S8verfRzOBYHVHUDlC9SdX3IYPLxKu0aCrblKZf35XzK7otNOZ5WnnoozRzuvMnY\n",
       "Q/ojn5Uvxqgzj3gYFvvvvmdT7FrrKKz1bxqF7XBn73PIHqpvAvUgsluA56s74XFMZT5ViGXWvAWI\n",
       "tHUEkpH/sJaEhifgrTzQFWuSITQvP11e+Ja81mrKd3Xakaq2WhssmI5KiS0iyWU6Mrj/1jiJFpIN\n",
       "b1WWaR12u1UiKlx2FM6S8xmDY7VJEKESnUveLaKFhU5+uKKGQWzCHBPUl3pJxDcxLurcrvwP8Cmq\n",
       "YzADPZt4Cdu4vnLe9QNOrCwcdqp6zPryVzmZr/2YdJ5rxLjRtvHtyCQb28kNPf1PivZNsv0TQPWP\n",
       "vc1ewpOhx2od84sk6UiiTdZNa4ZzYoFTzbNo7JQ5peUsFXGpTPi/h+351oRiYTpWGyeYPfpkWx2h\n",
       "olOUwHqrvAzpUrQt2Zo7UWxUHuOQ0n5iDZp5IcPGhNvOrhtINubajdtmvUnzTUlRUBVd8TY+jjeY\n",
       "OTl9v8sugHzQhIibvLkP24N0Sbiif5VAr5arLlCd8es36kt4AIB7vFrKtLjHRQxdALzmfY/1SkBE\n",
       "hI2KugLpU/wQ1YoRhpgPRbOxZBmvEiG1G1dqwD2eawELW69KmckNFF2rNXBCoMiKq7GMtrJTm4G9\n",
       "5tWXitQ5cxQCpev1jvS2dYaxPiPNW0kNO4HoJtKItwpu2H9eKGzGAPtHAI4Kb6rD98tK3hY1gJNj\n",
       "fSnDA2M9wWlMG03hSXR+zTwy4TyJU3AYV6BzPQDxxQweTeQPxZ4r5vpbeJISsE1P3smJr1FQ3EGJ\n",
       "ARbRUe66gRx60mfwbJkgAI3W2ejyRzLGjz0pVKC+hFwpjA0V+l6zVYNjJ6H6786oMVNTy295rHWV\n",
       "hAYC+Tu1UA/vpr45lJfF2w/w7nHLcHKEdQjfjfXI3rV7ouw2uWFq9fNJb4E0iowzgDXRspFqeuDH\n",
       "GRvhFEO5hiexaMKlqK0HSmvGEZyVqaRLFE7IMqd6J7yV7q22djceKSS6d2Jv1BUemLxvdJs9y9QL\n",
       "r4bQptHFyoSB4xwuor6NA+QfJ6B/YLwg09i/oHDx30HWDEOOpB6T5i3HjaSnKOhGfjNyXvM3lDhH\n",
       "M2J2b8urJodrgXcOFM5vQCgEvbwC2EdxHMArfia+WEWm/v4Idi723bUClAOGk8OQm740iQGviAYI\n",
       "2bV8EL87mbwENBtv3DDJSUTS1+Btmq8Fa4P1anbi4SyUEEQz0/QRNxbWftmVPMpSNO477ymMRfO5\n",
       "nHHYpCrEfWHsN25tOKuPdiCeN++GWv6wztXLl9RKxYsB2HHa5lXjxRZUnn3jVPj38NO03wp2NiO2\n",
       "5hZkmazIgRlbap7Z8ULkjoVUnoszj1Bq7bD/v/AzB/MxPIDEi8p3XDu/wtXA8DqFOUjqcuJKSTyV\n",
       "xYvnZerUsKbf8o9uGwwSJqyMjGSJny/vqTbbfEgl86vuCt9jn28czCJ8mFAREcztLXL9qW6LFSVs\n",
       "wS0mwt0ZJB2iN8aY2UYqENk5i1dpA/M/ex+aGxolN9dapvWG4UpaiH8dSUMDBHFNibWZCzC3w+7y\n",
       "Fcpswqz0A5t4tQ1U8VjW5+gxsfMSTl0LQMrItLcHsK6UbTbFvZWIAc1eJWmmFKXzkGimUzJ16baD\n",
       "EUxhhyFbvZwwvI8/U+DhcF5j6uVL/Ql1IGhWjRD3Mu/JzbCLzKgOoT6YlJTQfVt2dQtxIbBdBmuo\n",
       "rw3RB1nHZOLxfugBPoYt9UKpqs7ruxFqnIO2A7cY6vSg1/yBnS51CqNm4IKZRocbBnsdxpgkUs49\n",
       "doaBKgT18zYKjCeqZB80snUpbcxgLJ+K7NCaN13AW+q5d4H97VJVgXfp3QLe7eSVVuvVhy5AJmps\n",
       "ZNF88iYuwtGqoeBdVKwsxIuQYbBYCQXZOBpy4F61jJQkMXPByVhwdkwE7FrPVx1+CE4CMcGc+Z6+\n",
       "HNM7sdHFR5vc2acfuotWBp7G3m+FneB+Yqlq43lyDX6zXMHrjmvf/88rSgI5grLYVT5nY1P4nu1z\n",
       "rbm4T9wt6x+leZb+EaVhbiT+0uUQaebqKI03lmw0TNh86kBEZSB9B2/Uk/shtnGgLkwof3+5/tk0\n",
       "9XugN5v03sN3fiwIgKbxbHsFNrD3XMCu8Rlg6UkXSKfEHxNhn5O+VFG2AJZFbWM9GLBGW7teatJ7\n",
       "ax/H5JXMn88LpPOAZEURK+m4FkJ2n5s530EUjSS3ljcv7smxgP2X98xX1kgbInh/zu5qTKntAbi5\n",
       "s5c4uEx3/IZvFGctEdyO6H6+4DBTOUc0yYM6Pe2UMhx77rBSYsp/GcJPNhlSuPjfYmnZ+n8W4GJS\n",
       "tumPrPP/eL+n64T000cW28ohqwDNZ2R8X79QYoldX8eQeyQASnOFjN3rbb5TRy0ICs6Xs6L0SVqb\n",
       "CqekpoX6sRG6ytz7pdzTxGdmJ6M5LmENdJ2tA+srRT5CnNwu0khySqwqOpBM0ovkHbsMsUzdtnNY\n",
       "CaqoPo3c9Y0iEAhHvgL37HFyUCbkWnDcbrpzv3btEMqJ7Txne11LjNQ25PTcbzjeeiJJOq0q14yr\n",
       "SAGCYafhuK9aDX3EnH6Rn6+BlBbes4ckuXV3z8IYjSy/E7QPbqvI7FGYiiFAF4t+v7z03BC9Uwl2\n",
       "2crVHEfEzKjcE2r9Mqj0V7AM7hQT+1Lp8pbnP2+s9v415KANjvURy1q/k4H9vJn5m35Gp8jkWXHW\n",
       "CsHkS2DABAXyuRMOGG3+w8u/8pnWWkTL/WhArhV6o0SFsLwvMytg/l/3obALCW9DRrG9G8mZXP6N\n",
       "sobT9Gbgrdyggm9ZfMDdSpDmCdqep8ZhygssRTJlxwcrRQpqkATlDLP2DjlgPp7aP//7BTYyjjlu\n",
       "tgANXF4aT3SVp9HAQoGdftV6zTsn8BVnBAWZTRmWJ7snHgwbxfm1AWJn17TIb3zAVMlpxEM+M7gg\n",
       "cyKSdFaqVZ/A2uYL63owsqbdijy+uNCM6vu61QQWEGPMZxs7Uz3nJFTBG6u+UYvsuLqIi/90XOkD\n",
       "xudGgFHHJ1DtV8XODjWPAIag7R3zGctvGGS5n9hz2ha4KD9xfbHH0kz+NCKxmxgP0Y57CV8EEDkI\n",
       "ddwZZTT8grfhI4ElcwrJsk/+iuaB8E15GaVpXm/4nLNwlPQ6KfcQGTWT0EgyCMf5saRxh/WPP738\n",
       "StzkHvvjqVc4+0oV3Uv085zunsF7o/J+8DtpbHLZnTGbf2Gd34VY8ufPY/vD+r/X2v/C4xwADmzR\n",
       "MY44M0f2lqPhD4OIDw5Edm4Il1b96+Efg9vlPa8bCopiC+IRPISvl3A0+bqlgsG53HIzmEAa/YRR\n",
       "aPrWOW/D0pReHQtgHVwspOhVvslD5GBpRtuAt3E/Kc2NsTrg66ZW40nM5s7d7zFRw7xfMBYf5rk0\n",
       "07br+i8XKpNhXVHjuGBkBXsthOAtK9/XRUdU7oChKfNeJYQlhpW6dFmh9fDbpJMXjowzZUxac/c/\n",
       "Ev99AiEEzE/Sl6bf7TxFH7Yc7Rtqc1pq9C0gpDs+54/RnH9iHq25Hr9RVlCAv0Cyyi4T/PVlfNTJ\n",
       "+QgKR6Bm2jxH1bw0jg8+JyGefXecQLCGCFDXaZt5mPGucAjLEFryPDckcrqU4RW8ZcthcVT5DBUj\n",
       "Y/SugWcX/uNJVXBETwwZoYv/sf+oBKFHIyCI8PDPkexfnnv5xrNDRQRdjoKPw5k8MXKngimzAQkY\n",
       "PrZR+hbLvoyYWL25lZ3dge3/prpZnFr3kBhjxOK/ii0OXhmebTpPkU0Xsh/CW+pkQqK3uUfmMhQd\n",
       "Fi/DxJYt5IDIv9QQSHrQKOeLeV/Uk+Rr60bhDJ+NSsvNE24wqxKpI/Nbw/HXJBox/mVK8EnEw/fc\n",
       "+jnE0b6XRWMO7lAEalKulLTaIN2mh+2HeGBXYct4DxhwzGNVaoBq58X3e2H6wxHsS7kHSblVByOQ\n",
       "hRGap8f+Wg3B00dDCoE3TM9JSPYDTaoyUzPwtee9flOcl6lxhLHObRAnj5jGdbnTbIcruW7dLgIo\n",
       "C0A9AwQm+Dn8CN2ytjc0prJ8iVOwHX/Yh0R46rBZf03p16gNBV+6mkb+ZL1SH+UWdpzCcWnjNiyD\n",
       "BLM0xDyssInjY33SG2On4L43IWaCkpjFUxqE0owtgT3zD81d2IvTIytMnGp7CiDducqaSb4kpSAl\n",
       "Lbco2dfbaUgjo63/UdoH4vnFFsL3bvLi9A+BMZIAvqGX0+7KsB+8BMxZi2zrCDsVEWBLine1q/kT\n",
       "4hGZa3tB/B0uMIDPsATebzzT6Wl+kEKyemSalkFw7AJ5v8mAqMMa8NEK9NKJuneAWA2C0fCPic+S\n",
       "rvts/ocIWOmC6tgX1Zm2uxf8lFSB8yVtLOZvIu7EHGk3YPG7YbfD7wDkPVOct98ftjr+xpmbFhej\n",
       "vUtJNbHYJUAFHCZP+OpYmndLWSGXDybFiT6gkLOq82MKOHqV4lxT0KLSgbeYPzzAlIhVy1QVJny6\n",
       "FTm8RNQ0nubQwZs73mGzC2VJmGzJHTZox//1ink4adXJGpoctvjZDnFDWJPESjzlgF8NWoW4NTA8\n",
       "1U52dycSnOOderysSE39ymtJJXhCiP0MpyInG6VwtQeXWPxwDH+1mD8p8d4I5pIDqY2e9tC0koht\n",
       "qRxBIcZU9ZTH5rAAKHry435JzNwFGKgKGVUAbdj5y1thHXeoiU3wd0vukq4YjEO9R0+cgyeKeF0F\n",
       "PMrMSnNHFe5ZSWMCNUU6hTMkWyQdjMFxO4mx/x1VAY1Xjo+MRDl3+PAKfz3eLwX//+kmqb+IS+lc\n",
       "GO+mON01ip8xLAi6pIZ6A5luS3QN12360qn+Khm1VLRinFAY1qz9/zVVUc+5IW0yyDGIUzAqzz7V\n",
       "Ou8ehDSUcbdLa1MYcxwz9RFDObt7qWNHVFgmPytuyuk5hRE0EqTcHQ+d9eszopjz5Fus7Qqf+1b7\n",
       "+5xXqq2e1JHMrWDnsPF7+6Y2n870/6dHZNHYxJMlTQ6YHnVd5zjbjYkEuca7m3G1ogmFsrfRKV4b\n",
       "Hvn4AqNJT6N6UPJXMU3pqIVIq6pRhK5agV+vYa0u9JHtH9S1L/Ipb27dxGhQGRbJFesGblt54F4m\n",
       "Ts3uvn8+dARC7nF5F1iQ+Q7OSiH1v6ryh0MP7fvjZrRAYGvUpySdISunNwMpkUjDBA4ZfbQmHtFA\n",
       "ekqx21jXhABj5WCeBeIgi4xYhQQIV5i7qYEAKlKe+Ttl/qfiiu0RSFqHO82RFcn29Dfq61YcyEB2\n",
       "ZS5kVovasjygX5+VNx0HiYgU7bVnz/PkhSrOCGcK4VjBqySPndRmOMHBJ9iBNY3lmXDXYFya9fa2\n",
       "wZJCw9EKb7r4Sq5w8legoU3e3DLX/pmNX2z66BTQQ/pJnvr/Er4hTesr/0IPW8/u7gGQNV37ev+F\n",
       "jEvghWuyAjr3ZVLWqhnw38aZM0wOHzF5QdqSJ8OwDzKAci568jEx1oU6O8TO4DlmlcW8/cxSssjL\n",
       "O4psOX2v964zJeW5Yyz8JX4cOwjwRFBQwmlwyARPUZokQnWqpX07FD0l0AJUbZb5TgmRWwDJ/fak\n",
       "qB8H8KV8o54uRmc+lYNHU8y+2eG/PMq3G1eC59IL6KVKVWuOI9vYZudcsBm6fahsy4xfinUk+bod\n",
       "hBtD+XTmxHe/bm9d9ObbtR79czod5hf5tzmmP2bxkvLuNvXSDymkRZbV50FC9Byn+W+5xMEORwcx\n",
       "ihULhLQ0geAn0toduuk0uHpSXy/fOuBdzLMLjYUoeLjDtN8x7Cq80ZivniqEJ0/VVxt6uj5cQg6U\n",
       "U0W5vSwA12uuBrMtxDrDCE+98cj2TSXKqomQ6BJMkuXLc7HoSkdHWGK5TJlimLbGAMDU6sNUC8JP\n",
       "538I6KWFVpSNJRDBp0nQ7khhw9OAgilkRihg8+JFTb3P45+Mzonvwyna4HkI/3/kTxjcOGrwgPtx\n",
       "HF1p6657ajHAa4E0wXcvPqEVj6QKgzGy4muDexDwghc0AfP86DmnA12mFOOjkdBCj55NynTXKBTv\n",
       "Ep091Idk+rXMcmU2HPHXTa2PUH8ATUV9RzVPNnI01q4tvronUyQswgf3+1NRzscdEM1emRYwUK1r\n",
       "xpXQkogMHnJAZ43GBO/FY24dh+D/99vFBgjWYqpzdvSI34ioBP7yVU5JM88leh/yRFv5PkPZrf4o\n",
       "iRAhQWEzFyr0udAxPmfdaj23PV/T1hgpp6XfQ0UVoNj0TKcxAzV971qIXa0grFoo8Ffmfpv11XCB\n",
       "3i4an4At0gw44Y5pwZCYRmP/oh8bDeR2EpJNbUH/LRyb8xJscI3p8CbqPYNJWD1sHGfQwr4UIL0a\n",
       "ikzj2Z5X9RjSsgP08KE2g0uTRBF2rw3d3HEpEzebk3uSCGKf1RgyuYk/fpdFF7Vrddy88pg0bna0\n",
       "28FvwnHW/m0nITu6zSVcvIhDHnMpAg39hjqADyed1PxAWw5/GxGWQk/awsKSh7LQ/ECepjljl9FG\n",
       "LCD0TWt0f3vPiEEOQJAGEEHBzR48mSblN3DJRjYVL/cTQQqecjfNQlzX3s8M81VefWYJrsYaPn8u\n",
       "0zDFZMWOpRMkF3+2KQfKjswWR6D7kfX7ooHfREJrPI0a8XOplmWn8jrplsHE9FYVhGk1SyXI66Z/\n",
       "qEpVHPGHiwem6wDuF7AE9dXU4XIIgsAdb24QemRvLGe+RgJlb9fLx3Y1qUmPlLlqVtkfpBJ3YUZK\n",
       "3lHXYw6tsmGC2E0/OJI4R6qe0MWDZLssMOUqac9gVHO7U0SiuMjwlT5jmRqrvFgJgJS5qYBP5QiL\n",
       "jysskKPOGmvTvhcEHmLo/cLVgCgkSmVL5Eah5HcAn5W+VISo19/9MUbEYMQHgKFiKDOUcI4KouXY\n",
       "KAnSjTFH8g9BIaawafmmrXatbO4ioqu+AYVtwywXJbiquYqgJlQA10CkX8ThG9ZH6bR17PixYGZm\n",
       "JVeR4O6V3hs6Ej+dhwuy0HBC17XxPFrdMZj+Tr2gd4NYcwWXKLg2wdL+QFpsvp1zLLWtUj9BFoaS\n",
       "FL/aazunoXSE/sMzcNP2EajbW5qHVvH2hUN1bV8lWwR+WAJvBnz+7JK19QYfqNxE2VzlDD/g2XjM\n",
       "GOj7BbgogUTJkpjFtUpYVl3wlwje48vFoH8k9ABqN2ZDA90blKQpLYpZu6WxkHRBviLBoSKAOHnb\n",
       "fZw7cm3cxlxvzdGRGmDU3sB3Q/1M7EoQ+yIIvW/iLXcDurDY+57OtjRPn7Bu250lm5XW5AzoXpJ6\n",
       "ITaOiPicaSKXZ8wxsoNf4C5rwGPMJgJx5VGRxlRlWxZ8WA20L6XrFWKTq+s6czIUQIdr4uvpGqjG\n",
       "SbKCmxLOhIaE7eMuIphfSPXTfc+j7jFIv01mqZ+CyurWFSEV4U4+f98sFupMF2FrGSm8RZov/0rs\n",
       "nb2yi3g3CUXv4/9E2UXGfsi6X99/UtsJOjrVEYmBHruXKLnfb/ncvjd2p13ewyJRtpzY/Qm2WmCS\n",
       "B4QdQM6DtP+a5dgkENA60IfnAJweXlmOSyO2Xti6NvXiCIaVnAh+qneK4p3Y9yHkAw0MV0yq9ltF\n",
       "dm8OTngg9FXuFKCOaOTccocMxXNjUgVIPO/LDQYMDv24edncnEloushrHeG1YissA8x4HkwDj1vI\n",
       "lBhr4ZFJQZM5mwg074Nmu6pPqsLxBy4nsSl9gMD5y0ORhu7rGP8MxhyJhPvJ/DwCWcWDlrej4EtW\n",
       "I9qSYe56X9UZPphw6Oz6jMouP8OInUQ4IYVv/Yi4wuS3lT4lpHJhMlA8MrzwZYVQF3AS4fwxd0di\n",
       "C88e8e8HNyBxoB1U4Z+psDmNyObGGDngbI23EAqHAx5oIxL8f+r4TDFORDQLtBy5gUW4Xa1J/M/y\n",
       "1FwmZZRCyNi/9HvZxpwzXtNfEJ64bzFbbA3yDLoj8FxcTaJO0XOClJKMSlXFBqvPvhP/jCViAlWh\n",
       "kbcWmW5Iz0NldmC7JwQ+OI5WbFpj2oMBvsO1FMezJkZBFbHlT94RHoK6FK63ncTpdBTGSoWoClD2\n",
       "MEVg709BGBtARmsbxNEWEQ1lFyuiwyW3mkA7NDFAd1Gb2zOxUEvT+9X8yBdsy+Xf0ekQE2+bwK2s\n",
       "efI2V6jCyTCPtuG2m2hFBDOCZ89xh1ShP7o8rGs70+cOzTnFE9SQ1GEhRiMwug2KVamUWLKTp7OS\n",
       "ExvS3BuFl3ZaDJYdtRRsWvw2hjHmqKR1RtweMXwrnxXD22UsX5HnRPP7W83mQ5qTA8YJSNqzauMS\n",
       "iIPhE5pfaw+sl+Ibh46SLmINAxExG1ULWBz+deRdiABZZ38SYG1jOGgP9U2SNzxgrine9InDiasc\n",
       "+AjaVlCrnzMM99LZcS0+uK8rNLverKQBTkQbpIR2i3sKkgAgBDIV+cQ62AP/dkpBaRDQ1sCkzEKK\n",
       "4+++VNngUsEUT/amfQwikNNA3sbuayI7jgfZlPBCpc6cLEeDqdCXDfLIkRB8IsF2y6HuFlBep25o\n",
       "ChU7YqEXpznliQAw+sOnNArVvIMApOqkhiQiFCFjt81uBrcVl6xQk+kQDYFhIxfKkX5Jy55picnF\n",
       "SfuD+VrYr8tN0RbuOZIq12fIgvf2Ix97rpRu7nBxqGVPYKgaxxhHyAbELfFIaUP5f14TfjRysS4+\n",
       "qYissLwZ9L33RF60fE2Uqaflf3uOHeFZ0Na2vAqAc8MNLrGH1HMBvmi+BOvzaZ4F2S3DiTr/WvbQ\n",
       "jP2RmP6FFjdz3gwp8Ing6+kcZl+QsSMKV6lHNs7V3WW4nQvUefIZUYfqqU3Oy+Yto9KaXoWu7u4/\n",
       "ljwT8heC32mFbpQ8EyYJvI9InH9E5xH/Z3M/r/pjyokh5VmG8Tg/XuWgCZs8D6DQRN0c7FICKx00\n",
       "exYSdCqn0FYcgy+wF4zs8qDp8nky+mPp7h6GLMg4SoXgFk8yLaFftg+iZCA4i0XEGelnqGr6/DaU\n",
       "ZgbJQg7cpTSHpvkMp82jW+OZXfsxmd6bsne2k77CEiTQAKW7fT+U70nvBGlLtql8HQcp5O+NTsUM\n",
       "/E6zMs/5KiRcq2hfGyvX78A5dzehk4D19P49EDd+q7mo2DumOy0l0N4tqe4cVxA8vx4om6z4XdRB\n",
       "CSfJQ/cP09KdWVKkV9AmIlestcc3vadLh5yfjYMjv921XupYm5v2u/n8C7kYvjwTAUtJh1r/QV1x\n",
       "zCjcFPhe4/dBb9fN/gzhgN54a0THe4bij/OJWn7/azXJprEb9tAixhwzGpf/W8iUY3ELUTt2mFfS\n",
       "+tL/F2IW0fYKMEOcLHvu4UqbcplLER3LYsmDnVgs9ACUbftvpcJkGoRcnqR0z9p567VMNt8QhLjG\n",
       "8dtfyjd4CEmowKEin9oE0LDstut6/ZMcyAXflzRoPzNf/w28h/w6uPyljhq5qwIWWoZIE/GBO07Q\n",
       "7NqaWN9vf1ODujjLyZOiDkSwf//w7LeWdYdJm5umf3o983Ib6XEy0LAxlCvcqq7Dtv6OgOfD5DsG\n",
       "BoBKaU66AEV6UpwxJMjZePA4nsk9oGiYxz4drwta2JAgnRNas6vXwaJjhTDg2WMlWgHuYSpEuJB3\n",
       "EOP6QmGdzmRADW2aP8cW7r1yqgu2JxF3OS0A+5QhwX6kTHDq9NPol7uxtAlxu/07a+SDM3p6tT2/\n",
       "RzyhqLwe+LYl8ur7oJZzbUJscbDniTtFiF7LzsssikQEfgbzWRtvNZn0/YN5hvo7tfqAIPRq77uo\n",
       "9jNd7RLiOG8FKd/OqZQsKiHZzuvmB933u0bRR3r0EstFf9Z8b3ozEs3Try1s5xVive5WgCQup5Xk\n",
       "lzfVupMsm1N9cjaMLDHFRZAmIkD9RysE/pGRPTNuHDjvJvmJUEorCCf+n2rRtS4Jrrk5/HgLyhGQ\n",
       "r/5nnxby01tiq60lSWXoYTchCPeabeVXuwLoALFF86Qpta8tvc0e3aVTkWMJg+K4wZQbJrUCDIwV\n",
       "x83x7uvA8WFDyjZ0Xg4bbZhHq0XW1R7u+2mabWKsvU+lYlA7WdQzeVU5FC8AMEyaRqGp4xKd6noU\n",
       "wd+NiE9eqlsNiYGgJmqNd4pCkm1kggGi1iZE6AePCTjJG3txiM+F5jOm7+N4ryS75FfH5BQh68g4\n",
       "PLH+4WKGeErCgFFnPTcHAqy2fqS/9Cw0yNPGxDmsMrHKxfg0CDa7jC9HpHSWOBuZm17HsoLteIaH\n",
       "aw/W4VPyPT0VfpJf7RDsto7fyAn4hB0IFhDpu7ug/63bo2kXiRk+tpJYzGVfzzWogq/bmbqF9qjr\n",
       "7uDFXsoiLvIl37CbSywy6Sn5hnXANLDmjkevgekScu8tJOFVKJ7OLA4MDye/I5d5r7e7Kr65Ljye\n",
       "e3yZx3Dcw24CBcxa0b127XLexq/XAyz+ARMoAZRLxJ66eX+o2stvh3b68rb9VjOWw6zTvLbo2Ioh\n",
       "xzwhFu5Kjp6JTvqBjgo2cBLUC5QP09VhgJT4J8A1OQ8ORCs6vmAl4BucuDWw5UQrUWjm0Qro8CGR\n",
       "vlTivnceHKwwzPi5/CmD1gBDDOgZnaMDvmEP85FJSkhoBzZRP/MNau1CoNv9GzshBF5dUoEkW/4H\n",
       "PYRrEj/AAvTbpmP7K0XxHG/gc8/4XA3hVbYwPFzV4Hpe6QFwaI7sInt0pfYBqcVj8Z8uDTSsUuyP\n",
       "4aM9AQZ0bRkECLr+LLWsL06vfciCiDel3X3U1IjDNcGuTYTfxgyVdqHoJ5S0YYWDHciFsgjN6/68\n",
       "ZEWydG39+LCaWRliVg+/Xz7smTKc6Xga2EZcg1h8V2T42z+YRAP6MNr9wVWgjfHX9hJtLvt9sLvl\n",
       "rVpxIjVxYar9euG7KvDDqIJEtV3VQLN9gw42DbZ7Lfh53cORYMhlAGbrfs0LkRCq7AtArO7JvVpq\n",
       "bhg21LWIJyImFh+A7sAPe2Z2wTmViceD8fAjGHekosmnNQc6US/F4Hvp7DzP9v0TlVl5HTNGgdmm\n",
       "TH4MPFqCcm1H7Qc5MMlXLfH2Ce7ds1Vivb6ddLKqWdkYMDiljwJyQ/ZZo3LNXa8Q7RU+iwyqhqPB\n",
       "VOlQ1H3q4gAajaWbOpY9iVPKVEMeDjaGX0Cf1piMadkVDWnyIQ1rgz3avVjGexeT25mWSJpOuLwf\n",
       "25ROYqaHHOXmOZUDkBs+4RHpk9d3zq6b2yDVLnGe4RyF95uqC8JFGh6f8zSLIsCoFYAKV5LETmnh\n",
       "MnJDrHWp+FI0Mmu8tX3X0P10nZ5ETdA+VcsFiK5ZfBh3stv8TI2sEzYkendwE8qU1AM566a10yBZ\n",
       "KmeD94hFDTenSsLqOPZHDs7YpJ+9PuZvMzSm6Y1HqtT5hADiFWkMTPAu53ZF0cFLbAmJaW4ZL0O6\n",
       "oRpWsJXLo+mudXnV3YFkZg+pJBY/rTJKOieEOX5tu2h+NChgK8dbvND+7aYh4K6o2lI9hf0oZwsA\n",
       "Kw4gG12gdC/aLpm+W06zRMiacUyvqHVTL8SRsP66rxj8kDtzuy935oN7Yo+0/mUtuZRIq4DQnC0F\n",
       "mg/kK28povIPfP9q4Gw39yMkUbZTAhEBTu7hgCPfrmzO8qyLUSOMIDYVmIQxSDVyiAblmGsVFGsU\n",
       "77xjNpBkFZFLFgLE3rO/DuFEw7jWG05Y5WB7yQ5xQIJDJKSLLQGLs+aQW8MxqsVd8dh4wRGRSkVH\n",
       "wBwSNen7c9b4O7qxOtZ+bwB7ulCFdy1cwYHMz6aHZDOUPKiV6Mn66Uiw/NFNc8Vl1Ftt1MKkjZnD\n",
       "DRQz9ro1kpnQO7Tbi6TbrzS3HSTc9p43MQRsOiOEB4hspzr/AqJQ967bj9aePFbK+BJ4O638XBny\n",
       "+kcYYHLtUQQE3CrymLTtSoAxXLjRW9+JR6Ft+IkuIFFOAEbd0qSh3XV9gzsDgLqdarBAhPbqCE5n\n",
       "yHjo240Zi+PEo+l6KSUtpc3Y7m8vGF4dIGzcs8xY+fNdIkI/jKfWDeq0x6JaIHwhQbk8RwAOgi3s\n",
       "0T/hf2lZRHoy6X04o2qdjGjDuiBgvpXi/LS2qg1NsaheMzWrLTttgFLwwIBZtgTxgZ7nmw8Hnx69\n",
       "WAoUa2QgjB7tlWjs0WqML+/gN1tVy3x6bcahAbTse8/RUSw5E5dq9mzuPXZmuFGFHJ5iZq8/8zMt\n",
       "JtGZWWwgbAj9/q/WY2jjqu6LzPLbK9hgN1kREI/O1ykpHRjuDOt/rz/6OMdYcwO93ydP0Rqo6JKP\n",
       "lsJto4DXyqgV/i4BSAsiM0M7VDNHnDhgtFNAZ1R9qM4qHpR8C6lrLeK3AaK7yFr3Gn3g9l3dStlO\n",
       "hc0PuexusRtKpdDgJrxn/zEaNxFDCnydFBOOZZyyi37V0lmT8i1LrKy5S8CpGMeZdcWFCotLnZa1\n",
       "TQZjqlnUc6id51rzZXBIzPRNLD2f45Warp5HmbvTfG+KAL60hAWmTdmeLOTlBCewNT13Pdpry+3C\n",
       "RUV/NBT+02MgK4OY/nTTwrS+22L3bMsSOKpvjJef/iyjk0y86D2lzoJdHOCp+Bk0G9ZB5lthN5HJ\n",
       "Q3RWx+VancAxOEZD9xClziGwcJrL08OuDHGL1Sefkegx0XpU89tlLpuPeTG9Gb431H5wh4Ny2rBV\n",
       "fVZAT5R5CbdPTPV3y0MIxc1NAPwDwlLSZMoP9UUZ+n/HSdY9GcfMBL6l/xKm3I/ICOjFOfo5DHML\n",
       "I1VNitE4W6+lQGCA0gW6XL9Kz23MFHx31xJYdGkFGdQ2yXqIqbQHrWBhDfSig8hi8rWBrB/D8RPG\n",
       "aYBVyQoSzeVkriZH2CVqLczPpqvE3LI+gnl8FFSmP1aXYE2X9g4ghQphxSou7cqNZbXB2+rbpbPO\n",
       "2FLOWDIZfVzQMz/YZhzlhOGSN/90fPlRVdySrBwa3EgJ0ehdUME+Miov2pMjoBDn1tvHy/sQF6zg\n",
       "2KviDtGgy0yVGgSyr5JKrTBYzAU5kd/hQlewi547RwI+JlDl5PqLBaE6JvMBOcbxXsN7yctxtDV4\n",
       "ofHg3sjFA4aDFNvR23fHW6ijmcFTMJneI6g9aVADLtCDkRGtbbqWlzcku3PkTe+vbxpUoHm4ojyY\n",
       "5L5PYZXUs03l4L8paAHq/9kK2YFvA044OEbhzOGCkmA3sdhiMizL3b0Tenx2R5LhfqyNww9PvH+5\n",
       "xeQEuvLrKw4JTKWNzu/YpOrqc98hFZlnysoV+N9ly06ZScqJy0j/RggovfDKBJO0F3uHTqd/2lzt\n",
       "4wRkdCGgWRk33CjE/kwAm/zhUpQitXrOvOUSjqFQDGXKSMPkQL3+WpdOMT5RBZ9A/RpKFmNcmlgb\n",
       "lFNGAcnQzA8/uV+LRyEJWHADVnoqmRT/LtL3C6C49rf6SQHWRPCtHYpJklN24VgIksfBVCEUA3XY\n",
       "iCYlKjIHhSq7PFA8P2iwU5mE9oK+qAb36SlYT5Glus7//0PEP5I9Ui1igYJSSMA4Ei0tT/wo0goG\n",
       "5bA6LT6pOpDmmNHHY3PfyXGKG2sLYgyFU3D04/nvYlCKrPQy6KRFBUMz41oGU6fKZUEE3ES0Tn+N\n",
       "srWqAUZlC0YomVq2Zjm3+yKlQtEmeeDFqiJRlG0o81EiG+Q59rIgct/WnzdtfNbwcLqxiwi0UeTn\n",
       "CsmxhKf5UJOSAaTTeMCtjUwxZ7sUTZ/8LghnKeyUp4mtSvvz2Vy771cKbgNvrfnJ1/Uncs7O4W0J\n",
       "4XYXj7fY9CktnhTGVNbEoU0kBwjAyMy+qmNTRUkku8Xs7Dugacq8kULD7CqNDO2JanUiIMr3KpDt\n",
       "nyeLt+9YGBfAaofqui0Y24KE7ViK0bBI2m+6aH0AbM9YztPVE98AXuQeVd1VqIwgNLvVBlGHPp9m\n",
       "87QI4JP08ES5uab6fgHsyACRGA6LG1/lH1Lu1pF1ToDV6XBge5+lLzSf4+OjCJRY5I5ewvEpUxe2\n",
       "JxPQIZHCSJJZvI/z1QCk/+IPTS5MzVe3dDm/FtYaX8ZsRq//usiOK+cqC201cuJeoDGEpftgRaYQ\n",
       "y/FGVVFi1nDpSm4LgTZ+zIoifNa+on+YViMfu4isWOoopd8Eg/kO64qcTR+Udncnw5oQvweQ4gIZ\n",
       "HGkUR9rEPlmeODEqFmThANL14wcNIs+cK6GOkgUq75vFsYi+Re7qa3fjIfaAsrNcdQiZmQGrFobB\n",
       "5lwdXb9/81pkytRFw+WOeKSG1N0gtdKWa/LsGBV3R2Mwfq10r/uLTq8KhzFOO9KcHF8YHull1555\n",
       "ariNchAIIvLNHUP/mvcNxPP/LyBLWWMYLw7Odl0uQBokKmq2//n/D5ythS/quTuFr8yryK75WVyU\n",
       "Inr4ujTdZPsyhLOini+xXasbxKjf/K5/TMjoJKW6COstSoH9kEqOzdOUI+OcZskYdIjtq6ijbJ7n\n",
       "r+n+CAU81aG9BARgw2ZqnAJxdMty1OrPugLSmTNWrRXI0E1bHEmXSEBSpm2q5OIDqahEZbW+WJME\n",
       "tmF1Nxn04nbZa1tnUSGKxhM64oew1+hLXKPy3LoqRn7VrI/eujoVlAjK/hPHPnzjJQTLpFyMfHlX\n",
       "pqrw2YziBeyywoR+7vhjrTwLO90DXWL8JCyXeBsLfXIHnexa8fZLxdQnPHXl+e7dhGElG9xAfpbo\n",
       "ddc0jjZnw2/l96E+palAoyZuGWXevAjU+UJFmdNbmzaR+shmat13o0rRgl+XqP5dYZ9gehgdU7hv\n",
       "yS5JKxdGqRJVtIip8hFEz98IL52lKGB90bBpD7VIM9QhYmArpL8RsU62ASJYAcj3J1K4fLcaLLyf\n",
       "GsOulhBTZ0kRGHPjq+Rc6GqWy5ZxFBgykg1YQFeG0au89MT+daSaHJtBtNZT2xS7EdOzd+xneeQe\n",
       "XmKnd7cDSt8Pu6LWg/rvw6seFU+JY1VbsrKPP37LO8DJFXcTdGEhyy1HF2VFFANeNEZYKIn4sr+/\n",
       "ilyqA6ImtfBjyYB9qHsd/VaXSGrDKR5w9T2/MBx7LbDZclnR50IPSZavAM/Mf2/ss5x4VbERI/JB\n",
       "4McNmbYLYd12ghkrpcMKT5KP4DCAJJ7fj6YYV3b7WEjimfSQ+Hc7HrA3HeRKPDcmxX+YHQAtu0WC\n",
       "iKKterr+2+wVymby9JveYaOAcIHM2YqzaiVNQ49bMhxSSBts5VvFMNIGM0vwMHWesvr7aOxZNfMV\n",
       "XNPh0+ahIUXKaTDRH9RWfjVkhQKhj5vCa+QOgBzbrbfp7ftWfairdd/IHVngGgGj8p8SzJ/u7eA0\n",
       "8Hd1923vHXiYdeERjX86l8YAih+EUq7wGnf5aSwNWDcdOu5L5Cxc5YBfOMPSS+FyWOEQ4+GsehlI\n",
       "c8S0QzHlT+JluEnULwa3fj/vXVArbeMmcVsRh1pSjo9w5wurKkTlasGDzjMiy/4udfM68e5zUUJ+\n",
       "ZV0CtfR58d72fzUPc6JJmdfNlb8aQwIRxLWmqam7oP2+j2dTklCMAoSrTdqn2GSMOy28ak2GHmxa\n",
       "1tAwgZmpFtPFwtI2Zn9p0tKBL1T96AU6+6mIiipfsBuXoewwcyPRdbKOvkH69QZ02X6k6NiF5fer\n",
       "fdVWQta+FiVUF5uqO/Es+uXaS0A4obos3u6G25I4tlX/IGH6Bkyl8orTFkLCtn0TyQX269jdeKTH\n",
       "z0qezIGkrjQXZM27gQY9hM9JNuQGN9DMP3ZGSBULthOIbXt283XCwOT1Yh6eAeFyQG8oNXhRK1kl\n",
       "vonFInrmtGFhhM8QwI8tycz7/ea446tEHDvL3On1nOSHwm+sYfh2ehWyPXLRTffS3cqJkrMbPp+N\n",
       "BxVH0skqWIx3aE7484cTIQsfjfKF25cB2zuJRZ2nzWmSTm2Ooa83qUa42k+nAlivev8Iq5XS9j/s\n",
       "PKC7ds+aJbvu/hTtSPrSkv205l2M+edOsgJrq6vh4cNPQRFaKGlstu95IMtuuuyUC22WFykMQAFf\n",
       "K8d5ZQXCoAC3pVZIK1FCf9M0akx0c3c90Kx1Nzwu65kgNxG8YrmLCHbtHq3d0M30ZJZUwRPBbshn\n",
       "STlDtGi8exYC5j2JRfW9gqwczjRV/3o1bjlE0JjalCVnG8pmYfDglLESXEkrzDGVt6EfmZPslGQc\n",
       "0RGGiaUdIsRKajOGy+wt9Sne5eFIwJLypRZk95frC+cqSMtey3vm5+ssfEIburtt2hCMNtmFh5mm\n",
       "56aLZSJvYcolQHkQqyF86GgwFHFJiOwmT2PNFeTYH/8syp4gXb6cMtrjNcuYSKfays1o17HGr89j\n",
       "auGhxuTfJUAcd/HR2BEvnNd1eLR2nj9kjs663cV4DqRe2O5upScKom4hm/EjfQCgYMriH+34Aq6g\n",
       "xmYK7dC7xPZsxy6di/Ao8FaMIDS4GTVWmTfgcAsiFaIkE7cEOVnWAXyg9nnmv0YYRM+mqzLAPgb2\n",
       "q2k3pX5UpWGIG+OmDQER/huMEeNcBK+REM2ALWMqEzVpEJTNj3tB/gtgp0XWMYoaHyaEA0DomnLe\n",
       "Q4o7uHovQINULhoYcI7aJGsk3SZWcCCse6caVKyUP1tw1Wsl8tS6Kz7UvLhiMb5YQLDkXfnbn2uS\n",
       "nLzRf7sQ0GB8k5iAvB0huJvdtbOrI8rXEoB1TJ3yLFScbxWrj5U8q3D9CtjOvjWNSn/zAIbqXjHP\n",
       "9DAoKov13t1zKJ67dOc+Tmf64NjQpCNZe1qXD51fXSZtN8iCgpILnu7I8RiIKDZR34s16yU2KfnH\n",
       "h5NSNU6aEKD+n4/lf8dsDhwzOUnx//+VFrixm03C47Z5+mzki8Tz1im2p5uCKQVWYobZN+PTFs0E\n",
       "8jb2pRT/qrRicNI8yPxS2VOHV8iTOh5xSHkqFH7v3fQg1yjCzwy/8g28k6kyIX3vmMsabdBMonvR\n",
       "3A5xB+pzLo9jwHAwPme/Oj7AvsqPZFGBhGvHyjIq1c/Rb0RExHRqG5MLw34WqgiGWToTmMCc48TN\n",
       "i7IJ1e1L9/NY+2bLK48mjVvxPocQpFNciLuC6JBwEvVZjWzO7C2/k2wozQaFqr1wGA/Api9LdLIT\n",
       "HAT/x4pQI4Ql1PvdYP81EHoZOSAeVBiedSy+EEhhIv6QPUtzXGPv32OUh0igc+NEDB7MC/25PFV6\n",
       "+BrJIEay1/fNk9y+dQZhrMjn0zqo5U1OlHjc4Groeg0UitBgZwRs3+7cTuyP+T/lcIE0nrz7fPX3\n",
       "MVegMBT2YnP++KUh/ru/PcfHCN0qhIfmINLVy/7HaCQwo7e5hmzFKDV/vrI2STdRXhtcoG7GuJJg\n",
       "yyZBLAzSny1HPCUvgMdVR6AlXjlz89x6+8unJ7khY+5QZwPwt0LxgjdWA0P1mIS1gBxvC9mBrCgC\n",
       "skK7Cg79Lik8Og6nvV0ddBgWoMQKqLpdHgnUadjtQzmLRpwKxH9xOuwWOcs8yxAXuWzCSDzVMwJ6\n",
       "Xu2TafhpvRLv3Gk/bb5HpjHHKKhnPIS6Z4Ver9dV1WbmRUB5x6urzFeS4jYvRSZljtwXJXAXFs7q\n",
       "CDQuV5px1Cd/8qXPghSb9OGKtEQkziK8dYaoYvgceQnqK8kfDnxPjFfNGNO7AjBsrjwhhcZHTVpW\n",
       "1GnjrWfmRrkinlrH1Ly6fX1/Y46or6NoB9wS4w6Z/+YIIvmKEbKNultAbxFo/yk0uy9Id8WxJjNo\n",
       "FhdgNTVUa7mhvqbEwZHRSwfSu1W8qsUnDse/vno+7HMTYUi987TEp31m5KyqKDHtzy8APF+/CH+j\n",
       "U5oLpcrp+8ZvYmaID421h4Flz0489XetQi74bOkwy0Q0tCAzvGuhsXjH2gUTJ4O1yubDkyM84fwe\n",
       "HRvCr2evSose3g/KS3L0ajzOYwnQo/XCFpm7/W1QaDiR/9OVNF/HTeQC2WWaG+3L5ex+V0s3fdlY\n",
       "N6owmWJwxzaWOLTF2gWKtqLdZOeyy/ZwKtyvEP+kI9FJ3Iml19Unxdowuw+m+QuxN+OZfTuH1rek\n",
       "0exF9ZQ19T9NGIKlVqmtH4/9NYuckToZIwzwaFScou5TN6dlvobwqmBZpxBq59Fm7YHYHplc3ikz\n",
       "SsNDnsRmXkx0m/dX7GTpb42ehktZ3VkZYMvhJUX+pWm9RC47CjAt544L5IYFyoI5feALSfxyJRGW\n",
       "4ZKuDFeWopm1idbdusQhXMtNT3/2vugscQVLoAvsZ5AvlpCddbynaZniG5324aPIJ1Do7GxoNNbG\n",
       "JKcJhN2Mn26C1h2F1zt2GNB8h6PCeTbfODVnSgSab4e71Gy9Amv71uBc4e5q+YGtCiiPlehqqApN\n",
       "G1mxP8lJwn+JBjoTERBBP9s7cVtp+Cwj6EmqeM59Pdt8q21aWHwLGgmxDIUi+b2q41qXQ40i9XBp\n",
       "rNJwCFywC9zz425Q0ZQ5Zoawxf9pM+3mTyVBHG3k2EBhqc6ptChYal+26CnXG6e7atvQCc9gqfL/\n",
       "7lr974lX0JNFREzuXXqgxENi9EnFGlAYOsCoYbZ0xkmyyMTumT5F3rLGiyKdhLpg5f+s1L29HLg2\n",
       "g1y2Ur6zZ4d1fSLmS1yN6RzKB7AXJPgMF5rSBSF0djsZmqd6ys/1b++wBFTZEI2D42uvn7+XPFsN\n",
       "+Vp6K9Q7TghyRD10QZw9E9q2uGzxQY+RKb3pKZwuEvzzmGuYhKFzDpbxFFfXK8ssAIqIgc8u/fae\n",
       "BeCyq8lmOmccUrCWvtLPjsFpX3StBzM2hibp4++UdirhhVb4Jb17QO0z5N+0KqkYv8k7q8+fT4In\n",
       "9sLf6pqPZdQeBidMu5BdpTvK/hdfBth1TvBh4BbTVNUbLxYyjFwRwCNEi9lI1OtMZKDWy4pcqlgq\n",
       "rX7c0IAS/ASIGP5uwYPwNaF0XLHwKTmKfn5jHS5n4mCTjs1lIXYbUqabkN5dEFXS5nxe96wWAi/R\n",
       "XEiggtgGSf3C3oBtCXjJXYPcJckgDcTpzZTIL+mTTUX9XIEs59VJRqTMSiIyDzNOTINclHZNN84E\n",
       "uX0UA4xGxt9a8F5zxg0rQ5ANKdkYiC66snGDgoT4A1p6F/fSZtPOUxoQK4pouL4dh0HkDqFmJYcY\n",
       "a7kJ1FLQ9NKBgHXb+762WQe4MHC2nJrKIKWk54N86DBONsCI8V4pqtrLatMqo+gjY9jdLHNzc7RP\n",
       "ZpHd/SHX9K6n5qt12vkcZA3/Gg/VxkNRFE6exZxlyWrVj306Att3AZ2THweK4GacJ9vFLLs6JJam\n",
       "TSySUJaFVnpdqnsglbMwgco2dbfLkyeJi41k/+bqYBQitXh8Hx+Pf47g8iuL2mLOymckPmbNCPh/\n",
       "LdbtfsjBP18R6/ptpVKEqSPc6BRiWLMNg9KpyOOp+A48YU+zvRP/bYI/Rl9NR+nmxB8bSoYrb5qS\n",
       "eUWfuwBqW8PhjrNPkIV4VEW35HlwlSjN+WeTc0anamEQmaTNPRw0NAIGfM6H2+OffKjeIVLqpJz6\n",
       "yLCnBZ9OAA4d7zY4AOoRwCYLiJsMKQAAAYdBmiRsQz/+nhADc+x4IKX8AbulzeU00Oi0tFxoOIpQ\n",
       "mc0Hwn0LRPGNtv69Fgn5iLSArYkWuNZuyNQh3dF8X5Yf7bHyG66sR0UgPk5IiUQi9Yq5Pnq6dk5V\n",
       "xAzzAQr5pBjK+3k3+qWWj2TyipeLBzMlK3MrAmE67NQzlAleUy/pj7i+gBAxUzMVRfLGVDk/7lVY\n",
       "1bWDc+3+KkD+hqs2x1Un5Tsmd4T/ZXnDCVUHfatvdnt4JzVZkgYacrNDIPFz3Py/l2XEoO0qgn/4\n",
       "dKlB9pdPNYw6dv4V66ST9VgM24oaqbsgORA5zVIKi/i71PsnNpwlEfB1EDADYeNUiPY18qhmKAbf\n",
       "oUsv2bcQg1MTVh6kyIFmq8XYlsrUsk35Mp0l7WHPGa4E3ZDqlejmM4TJNaSut2Cvyn4JwsomXBP1\n",
       "DNCuqGuB8Mw/60GTe7xNkNbkfZDCZIQaCRmpb8QykqpvypmX/HOTX19YIzaqm8bS5iYmzh+qLT8X\n",
       "LrLcccWoqqvBSZDOCXpjqH7AAAAALUGeQniEfwEaUVCGl6YEMPWBz3rBhISZGw1w5KGzOCyqZ8uE\n",
       "ZoynQtQ8q8wJqQAAAB8BnmF0R/8BxIo2gNi2QcV+yhw7j+FoAmifzmwfVMKXAAAAEQGeY2pH/wHF\n",
       "gAFCPGE4B2GAAAAAE0GaaEmoQWiZTAhn//6eEAAAB0wAAAAWQZ6GRREsI/8BHioAU/uZ8nQduCwa\n",
       "wQAAABABnqV0R/8BxIpizBDVXJQTAAAAEQGep2pH/wHFgAFCPGE4B2GBAAAAE0GarEmoQWyZTAhn\n",
       "//6eEAAAB0wAAAAVQZ7KRRUsI/8BHioAU/1TuUwN6LDXAAAAEAGe6XRH/wHEimLMENVclBMAAAAR\n",
       "AZ7rakf/AcWAAUI8YTgHYYEAAAAcQZrwSahBbJlMCGf//p4QAFPw64BEWfJs5YgYEQAAABVBnw5F\n",
       "FSwj/wEeKgBT/VO5TA3osNYAAAAQAZ8tdEf/AcSKYswQ1VyUEwAAABEBny9qR/8BxYABQjxhOAdh\n",
       "gQAAABNBmzRJqEFsmUwIZ//+nhAAAAdMAAAAFUGfUkUVLCP/AR4qAFP9U7lMDeiw1gAAABABn3F0\n",
       "R/8BxIpizBDVXJQTAAAAEQGfc2pH/wHFgAFCPGE4B2GBAAAAHUGbeEmoQWyZTAhn//6eEABT8OuA\n",
       "SYZ2P5YCwMCBAAAAFUGflkUVLCP/AR4qAFP9U7lMDeiw1gAAABABn7V0R/8BxIpizBDVXJQTAAAA\n",
       "EQGft2pH/wHFgAFCPGE4B2GBAAAAE0GbvEmoQWyZTAhn//6eEAAAB0wAAAAVQZ/aRRUsI/8BHioA\n",
       "U/1TuUwN6LDWAAAAEAGf+XRH/wHEimLMENVclBMAAAARAZ/7akf/AcWAAUI8YTgHYYAAAAATQZvg\n",
       "SahBbJlMCGf//p4QAAAHTQAAABVBnh5FFSwj/wEeKgBT/VO5TA3osNcAAAAQAZ49dEf/AcSKYswQ\n",
       "1VyUEwAAABEBnj9qR/8BxYABQjxhOAdhgQAAAB1BmiRJqEFsmUwIZ//+nhAAU/DrgEVddc2U2JwT\n",
       "cAAAABVBnkJFFSwj/wEeKgBT/VO5TA3osNcAAAAQAZ5hdEf/AcSKYswQ1VyUEwAAABEBnmNqR/8B\n",
       "xYABQjxhOAdhgAAAABNBmmhJqEFsmUwIZ//+nhAAAAdMAAAAFUGehkUVLCP/AR4qAFP9U7lMDeiw\n",
       "1wAAABABnqV0R/8BxIpizBDVXJQTAAAAEQGep2pH/wHFgAFCPGE4B2GBAAAAE0GarEmoQWyZTAhn\n",
       "//6eEAAAB0wAAAAVQZ7KRRUsI/8BHioAU/1TuUwN6LDXAAAAEAGe6XRH/wHEimLMENVclBMAAAAR\n",
       "AZ7rakf/AcWAAUI8YTgHYYEAAAATQZrwSahBbJlMCGf//p4QAAAHTQAAABVBnw5FFSwj/wEeKgBT\n",
       "/VO5TA3osNYAAAAQAZ8tdEf/AcSKYswQ1VyUEwAAABEBny9qR/8BxYABQjxhOAdhgQAAABNBmzRJ\n",
       "qEFsmUwIZ//+nhAAAAdMAAAAFUGfUkUVLCP/AR4qAFP9U7lMDeiw1gAAABABn3F0R/8BxIpizBDV\n",
       "XJQTAAAAEQGfc2pH/wHFgAFCPGE4B2GBAAAAE0GbeEmoQWyZTAhn//6eEAAAB00AAAAVQZ+WRRUs\n",
       "I/8BHioAU/1TuUwN6LDWAAAAEAGftXRH/wHEimLMENVclBMAAAARAZ+3akf/AcWAAUI8YTgHYYEA\n",
       "AAAcQZu8SahBbJlMCGf//p4QAFPw64BI/pWSSwWBgQAAABVBn9pFFSwj/wEeKgBT/VO5TA3osNYA\n",
       "AAAQAZ/5dEf/AcSKYswQ1VyUEwAAABEBn/tqR/8BxYABQjxhOAdhgAAAABtBm+BJqEFsmUwIZ//+\n",
       "nhAAU/DrgERRj9EFgYEAAAAVQZ4eRRUsI/8BHioAU/1TuUwN6LDXAAAAEAGePXRH/wHEimLMENVc\n",
       "lBMAAAARAZ4/akf/AcWAAUI8YTgHYYEAAAATQZokSahBbJlMCGf//p4QAAAHTAAAABVBnkJFFSwj\n",
       "/wEeKgBT/VO5TA3osNcAAAAQAZ5hdEf/AcSKYswQ1VyUEwAAABEBnmNqR/8BxYABQjxhOAdhgAAA\n",
       "ABlBmmhJqEFsmUwIZ//+nhAAU/E9QB5tE4JuAAAAFUGehkUVLCP/AR4qAFP9U7lMDeiw1wAAABAB\n",
       "nqV0R/8BxIpizBDVXJQTAAAAEQGep2pH/wHFgAFCPGE4B2GBAAAAE0GarEmoQWyZTAhn//6eEAAA\n",
       "B0wAAAAVQZ7KRRUsI/8BHioAU/1TuUwN6LDXAAAAEAGe6XRH/wHEimLMENVclBMAAAARAZ7rakf/\n",
       "AcWAAUI8YTgHYYEAAAAbQZrwSahBbJlMCGf//p4QAFPw64BEWcbduIGBAAAAFUGfDkUVLCP/AR4q\n",
       "AFP9U7lMDeiw1gAAABABny10R/8BxIpizBDVXJQTAAAAEQGfL2pH/wHFgAFCPGE4B2GBAAAAE0Gb\n",
       "NEmoQWyZTAhn//6eEAAAB0wAAAAVQZ9SRRUsI/8BHioAU/1TuUwN6LDWAAAAEAGfcXRH/wHEimLM\n",
       "ENVclBMAAAARAZ9zakf/AcWAAUI8YTgHYYEAAAATQZt4SahBbJlMCGf//p4QAAAHTQAAABVBn5ZF\n",
       "FSwj/wEeKgBT/VO5TA3osNYAAAAQAZ+1dEf/AcSKYswQ1VyUEwAAABEBn7dqR/8BxYABQjxhOAdh\n",
       "gQAAABNBm7xJqEFsmUwIZ//+nhAAAAdMAAAAFUGf2kUVLCP/AR4qAFP9U7lMDeiw1gAAABABn/l0\n",
       "R/8BxIpizBDVXJQTAAAAEQGf+2pH/wHFgAFCPGE4B2GAAAAAE0Gb4EmoQWyZTAhn//6eEAAAB00A\n",
       "AAAVQZ4eRRUsI/8BHioAU/1TuUwN6LDXAAAAEAGePXRH/wHEimLMENVclBMAAAARAZ4/akf/AcWA\n",
       "AUI8YTgHYYEAAAAZQZokSahBbJlMCGf//p4QAFPxPUAfY3OCbgAAABVBnkJFFSwj/wEeKgBT/VO5\n",
       "TA3osNcAAAAQAZ5hdEf/AcSKYswQ1VyUEwAAABEBnmNqR/8BxYABQjxhOAdhgAAAABNBmmhJqEFs\n",
       "mUwIZ//+nhAAAAdMAAAAFUGehkUVLCP/AR4qAFP9U7lMDeiw1wAAABABnqV0R/8BxIpizBDVXJQT\n",
       "AAAAEQGep2pH/wHFgAFCPGE4B2GBAAAAE0GarEmoQWyZTAhn//6eEAAAB0wAAAAVQZ7KRRUsI/8B\n",
       "HioAU/1TuUwN6LDXAAAAEAGe6XRH/wHEimLMENVclBMAAAARAZ7rakf/AcWAAUI8YTgHYYEAAAAT\n",
       "QZrwSahBbJlMCGf//p4QAAAHTQAAABVBnw5FFSwj/wEeKgBT/VO5TA3osNYAAAAQAZ8tdEf/AcSK\n",
       "YswQ1VyUEwAAABEBny9qR/8BxYABQjxhOAdhgQAAABpBmzRJqEFsmUwIZ//+nhAAU/E9QCDcvs4J\n",
       "uAAAABVBn1JFFSwj/wEeKgBT/VO5TA3osNYAAAAQAZ9xdEf/AcSKYswQ1VyUEwAAABEBn3NqR/8B\n",
       "xYABQjxhOAdhgQAAABNBm3hJqEFsmUwIZ//+nhAAAAdNAAAAFUGflkUVLCP/AR4qAFP9U7lMDeiw\n",
       "1gAAABABn7V0R/8BxIpizBDVXJQTAAAAEQGft2pH/wHFgAFCPGE4B2GBAAAAE0GbvEmoQWyZTAhn\n",
       "//6eEAAAB0wAAAAVQZ/aRRUsI/8BHioAU/1TuUwN6LDWAAAAEAGf+XRH/wHEimLMENVclBMAAAAR\n",
       "AZ/7akf/AcWAAUI8YTgHYYAAAAATQZvgSahBbJlMCGf//p4QAAAHTQAAABVBnh5FFSwj/wEeKgBT\n",
       "/VO5TA3osNcAAAAQAZ49dEf/AcSKYswQ1VyUEwAAABEBnj9qR/8BxYABQjxhOAdhgQAAABNBmiRJ\n",
       "qEFsmUwIX//+jLAAAAdUAAAAFUGeQkUVLCP/AR4qAFP9U7lMDeiw1wAAABABnmF0R/8BxIpizBDV\n",
       "XJQTAAAAEQGeY2pH/wHFgAFCPGE4B2GAAAAAE0GaaEmoQWyZTAhf//6MsAAAB1QAAAAVQZ6GRRUs\n",
       "I/8BHioAU/1TuUwN6LDXAAAAEAGepXRH/wHEimLMENVclBMAAAARAZ6nakf/AcWAAUI8YTgHYYEA\n",
       "AAATQZqsSahBbJlMCF///oywAAAHVAAAABVBnspFFSwj/wEeKgBT/VO5TA3osNcAAAAQAZ7pdEf/\n",
       "AcSKYswQ1VyUEwAAABEBnutqR/8BxYABQjxhOAdhgQAAABNBmvBJqEFsmUwIV//+OEAAABxxAAAA\n",
       "FUGfDkUVLCP/AR4qAFP9U7lMDeiw1gAAABABny10R/8BxIpizBDVXJQTAAAAEQGfL2pH/wHFgAFC\n",
       "PGE4B2GBAAAAFEGbNEmoQWyZTAhH//3hAAADAG9AAAAAFUGfUkUVLCP/AR4qAFP9U7lMDeiw1gAA\n",
       "ABABn3F0R/8BxIpizBDVXJQTAAAAEQGfc2pH/wHFgAFCPGE4B2GBAAAAEkGbdUmoQWyZTAj//IQA\n",
       "AAMBswAAFeJtb292AAAAbG12aGQAAAAAAAAAAAAAAAAAAAPoAAAfQAABAAABAAAAAAAAAAAAAAAA\n",
       "AQAAAAAAAAAAAAAAAAAAAAEAAAAAAAAAAAAAAAAAAEAAAAAAAAAAAAAAAAAAAAAAAAAAAAAAAAAA\n",
       "AAAAAAACAAAVDHRyYWsAAABcdGtoZAAAAAMAAAAAAAAAAAAAAAEAAAAAAAAfQAAAAAAAAAAAAAAA\n",
       "AAAAAAAAAQAAAAAAAAAAAAAAAAAAAAEAAAAAAAAAAAAAAAAAAEAAAAABsAAAASAAAAAAACRlZHRz\n",
       "AAAAHGVsc3QAAAAAAAAAAQAAH0AAAAIAAAEAAAAAFIRtZGlhAAAAIG1kaGQAAAAAAAAAAAAAAAAA\n",
       "ADIAAAGQAFXEAAAAAAAtaGRscgAAAAAAAAAAdmlkZQAAAAAAAAAAAAAAAFZpZGVvSGFuZGxlcgAA\n",
       "ABQvbWluZgAAABR2bWhkAAAAAQAAAAAAAAAAAAAAJGRpbmYAAAAcZHJlZgAAAAAAAAABAAAADHVy\n",
       "bCAAAAABAAAT73N0YmwAAACzc3RzZAAAAAAAAAABAAAAo2F2YzEAAAAAAAAAAQAAAAAAAAAAAAAA\n",
       "AAAAAAABsAEgAEgAAABIAAAAAAAAAAEAAAAAAAAAAAAAAAAAAAAAAAAAAAAAAAAAAAAAAAAAAAAY\n",
       "//8AAAAxYXZjQwFkAB7/4QAYZ2QAHqzZQbCWhAAAAwAEAAADAZA8WLZYAQAGaOvjyyLAAAAAHHV1\n",
       "aWRraEDyXyRPxbo5pRvPAyPzAAAAAAAAABhzdHRzAAAAAAAAAAEAAAGQAAABAAAAABhzdHNzAAAA\n",
       "AAAAAAIAAAABAAAA+wAADIBjdHRzAAAAAAAAAY4AAAABAAACAAAAAAEAAAUAAAAAAQAAAgAAAAAB\n",
       "AAAAAAAAAAEAAAEAAAAAAQAABQAAAAABAAACAAAAAAEAAAAAAAAAAQAAAQAAAAABAAAFAAAAAAEA\n",
       "AAIAAAAAAQAAAAAAAAABAAABAAAAAAEAAAIAAAAAAQAABQAAAAABAAACAAAAAAEAAAAAAAAAAQAA\n",
       "AQAAAAABAAAFAAAAAAEAAAIAAAAAAQAAAAAAAAABAAABAAAAAAEAAAUAAAAAAQAAAgAAAAABAAAA\n",
       "AAAAAAEAAAEAAAAAAQAABQAAAAABAAACAAAAAAEAAAAAAAAAAQAAAQAAAAACAAACAAAAAAEAAAUA\n",
       "AAAAAQAAAgAAAAABAAAAAAAAAAEAAAEAAAAAAQAABQAAAAABAAACAAAAAAEAAAAAAAAAAQAAAQAA\n",
       "AAACAAACAAAAAAEAAAUAAAAAAQAAAgAAAAABAAAAAAAAAAEAAAEAAAAAAQAABQAAAAABAAACAAAA\n",
       "AAEAAAAAAAAAAQAAAQAAAAABAAAFAAAAAAEAAAIAAAAAAQAAAAAAAAABAAABAAAAAAEAAAUAAAAA\n",
       "AQAAAgAAAAABAAAAAAAAAAEAAAEAAAAAAQAABQAAAAABAAACAAAAAAEAAAAAAAAAAQAAAQAAAAAB\n",
       "AAAFAAAAAAEAAAIAAAAAAQAAAAAAAAABAAABAAAAAAEAAAUAAAAAAQAAAgAAAAABAAAAAAAAAAEA\n",
       "AAEAAAAAAQAABQAAAAABAAACAAAAAAEAAAAAAAAAAQAAAQAAAAABAAAFAAAAAAEAAAIAAAAAAQAA\n",
       "AAAAAAABAAABAAAAAAEAAAUAAAAAAQAAAgAAAAABAAAAAAAAAAEAAAEAAAAAAQAABQAAAAABAAAC\n",
       "AAAAAAEAAAAAAAAAAQAAAQAAAAABAAAFAAAAAAEAAAIAAAAAAQAAAAAAAAABAAABAAAAAAEAAAUA\n",
       "AAAAAQAAAgAAAAABAAAAAAAAAAEAAAEAAAAAAQAABQAAAAABAAACAAAAAAEAAAAAAAAAAQAAAQAA\n",
       "AAABAAAFAAAAAAEAAAIAAAAAAQAAAAAAAAABAAABAAAAAAEAAAUAAAAAAQAAAgAAAAABAAAAAAAA\n",
       "AAEAAAEAAAAAAQAABQAAAAABAAACAAAAAAEAAAAAAAAAAQAAAQAAAAABAAAFAAAAAAEAAAIAAAAA\n",
       "AQAAAAAAAAABAAABAAAAAAEAAAUAAAAAAQAAAgAAAAABAAAAAAAAAAEAAAEAAAAAAQAABQAAAAAB\n",
       "AAACAAAAAAEAAAAAAAAAAQAAAQAAAAABAAAFAAAAAAEAAAIAAAAAAQAAAAAAAAABAAABAAAAAAEA\n",
       "AAUAAAAAAQAAAgAAAAABAAAAAAAAAAEAAAEAAAAAAQAABQAAAAABAAACAAAAAAEAAAAAAAAAAQAA\n",
       "AQAAAAABAAAFAAAAAAEAAAIAAAAAAQAAAAAAAAABAAABAAAAAAEAAAUAAAAAAQAAAgAAAAABAAAA\n",
       "AAAAAAEAAAEAAAAAAQAABQAAAAABAAACAAAAAAEAAAAAAAAAAQAAAQAAAAABAAAFAAAAAAEAAAIA\n",
       "AAAAAQAAAAAAAAABAAABAAAAAAEAAAUAAAAAAQAAAgAAAAABAAAAAAAAAAEAAAEAAAAAAQAABQAA\n",
       "AAABAAACAAAAAAEAAAAAAAAAAQAAAQAAAAABAAAFAAAAAAEAAAIAAAAAAQAAAAAAAAABAAABAAAA\n",
       "AAEAAAUAAAAAAQAAAgAAAAABAAAAAAAAAAEAAAEAAAAAAQAABQAAAAABAAACAAAAAAEAAAAAAAAA\n",
       "AQAAAQAAAAABAAAFAAAAAAEAAAIAAAAAAQAAAAAAAAABAAABAAAAAAEAAAUAAAAAAQAAAgAAAAAB\n",
       "AAAAAAAAAAEAAAEAAAAAAQAABQAAAAABAAACAAAAAAEAAAAAAAAAAQAAAQAAAAABAAAFAAAAAAEA\n",
       "AAIAAAAAAQAAAAAAAAABAAABAAAAAAEAAAUAAAAAAQAAAgAAAAABAAAAAAAAAAEAAAEAAAAAAQAA\n",
       "BQAAAAABAAACAAAAAAEAAAAAAAAAAQAAAQAAAAABAAAFAAAAAAEAAAIAAAAAAQAAAAAAAAABAAAB\n",
       "AAAAAAEAAAUAAAAAAQAAAgAAAAABAAAAAAAAAAEAAAEAAAAAAQAABQAAAAABAAACAAAAAAEAAAAA\n",
       "AAAAAQAAAQAAAAABAAAFAAAAAAEAAAIAAAAAAQAAAAAAAAABAAABAAAAAAEAAAUAAAAAAQAAAgAA\n",
       "AAABAAAAAAAAAAEAAAEAAAAAAQAABQAAAAABAAACAAAAAAEAAAAAAAAAAQAAAQAAAAABAAAFAAAA\n",
       "AAEAAAIAAAAAAQAAAAAAAAABAAABAAAAAAEAAAUAAAAAAQAAAgAAAAABAAAAAAAAAAEAAAEAAAAA\n",
       "AQAABQAAAAABAAACAAAAAAEAAAAAAAAAAQAAAQAAAAABAAAFAAAAAAEAAAIAAAAAAQAAAAAAAAAB\n",
       "AAABAAAAAAEAAAUAAAAAAQAAAgAAAAABAAAAAAAAAAEAAAEAAAAAAQAABQAAAAABAAACAAAAAAEA\n",
       "AAAAAAAAAQAAAQAAAAABAAAFAAAAAAEAAAIAAAAAAQAAAAAAAAABAAABAAAAAAEAAAUAAAAAAQAA\n",
       "AgAAAAABAAAAAAAAAAEAAAEAAAAAAQAAAgAAAAABAAAFAAAAAAEAAAIAAAAAAQAAAAAAAAABAAAB\n",
       "AAAAAAEAAAUAAAAAAQAAAgAAAAABAAAAAAAAAAEAAAEAAAAAAQAABQAAAAABAAACAAAAAAEAAAAA\n",
       "AAAAAQAAAQAAAAABAAAFAAAAAAEAAAIAAAAAAQAAAAAAAAABAAABAAAAAAEAAAUAAAAAAQAAAgAA\n",
       "AAABAAAAAAAAAAEAAAEAAAAAAQAABQAAAAABAAACAAAAAAEAAAAAAAAAAQAAAQAAAAABAAAFAAAA\n",
       "AAEAAAIAAAAAAQAAAAAAAAABAAABAAAAAAEAAAUAAAAAAQAAAgAAAAABAAAAAAAAAAEAAAEAAAAA\n",
       "AQAABQAAAAABAAACAAAAAAEAAAAAAAAAAQAAAQAAAAABAAAFAAAAAAEAAAIAAAAAAQAAAAAAAAAB\n",
       "AAABAAAAAAEAAAUAAAAAAQAAAgAAAAABAAAAAAAAAAEAAAEAAAAAAQAABQAAAAABAAACAAAAAAEA\n",
       "AAAAAAAAAQAAAQAAAAABAAAFAAAAAAEAAAIAAAAAAQAAAAAAAAABAAABAAAAAAEAAAUAAAAAAQAA\n",
       "AgAAAAABAAAAAAAAAAEAAAEAAAAAAQAABQAAAAABAAACAAAAAAEAAAAAAAAAAQAAAQAAAAABAAAF\n",
       "AAAAAAEAAAIAAAAAAQAAAAAAAAABAAABAAAAAAEAAAUAAAAAAQAAAgAAAAABAAAAAAAAAAEAAAEA\n",
       "AAAAAQAABQAAAAABAAACAAAAAAEAAAAAAAAAAQAAAQAAAAABAAAFAAAAAAEAAAIAAAAAAQAAAAAA\n",
       "AAABAAABAAAAAAEAAAUAAAAAAQAAAgAAAAABAAAAAAAAAAEAAAEAAAAAAQAABQAAAAABAAACAAAA\n",
       "AAEAAAAAAAAAAQAAAQAAAAABAAAFAAAAAAEAAAIAAAAAAQAAAAAAAAABAAABAAAAAAEAAAUAAAAA\n",
       "AQAAAgAAAAABAAAAAAAAAAEAAAEAAAAAAQAABQAAAAABAAACAAAAAAEAAAAAAAAAAQAAAQAAAAAB\n",
       "AAAFAAAAAAEAAAIAAAAAAQAAAAAAAAABAAABAAAAAAEAAAUAAAAAAQAAAgAAAAABAAAAAAAAAAEA\n",
       "AAEAAAAAAQAABQAAAAABAAACAAAAAAEAAAAAAAAAAQAAAQAAAAABAAAFAAAAAAEAAAIAAAAAAQAA\n",
       "AAAAAAABAAABAAAAAAEAAAUAAAAAAQAAAgAAAAABAAAAAAAAAAEAAAEAAAAAAQAABQAAAAABAAAC\n",
       "AAAAAAEAAAAAAAAAAQAAAQAAAAABAAAFAAAAAAEAAAIAAAAAAQAAAAAAAAABAAABAAAAAAEAAAUA\n",
       "AAAAAQAAAgAAAAABAAAAAAAAAAEAAAEAAAAAAQAABQAAAAABAAACAAAAAAEAAAAAAAAAAQAAAQAA\n",
       "AAABAAAFAAAAAAEAAAIAAAAAAQAAAAAAAAABAAABAAAAAAEAAAUAAAAAAQAAAgAAAAABAAAAAAAA\n",
       "AAEAAAEAAAAAAQAABQAAAAABAAACAAAAAAEAAAAAAAAAAQAAAQAAAAABAAAFAAAAAAEAAAIAAAAA\n",
       "AQAAAAAAAAABAAABAAAAAAEAAAIAAAAAHHN0c2MAAAAAAAAAAQAAAAEAAAGQAAAAAQAABlRzdHN6\n",
       "AAAAAAAAAAAAAAGQAAA0/QAAAjkAAABJAAAAQwAAACcAAAC/AAAANwAAACsAAAAmAAAAlQAAAC8A\n",
       "AAAmAAAAKQAAADkAAAB8AAAAMQAAACcAAAAdAAAAcQAAAC4AAAAZAAAAJQAAAGsAAAAvAAAAIgAA\n",
       "ACYAAABlAAAAMAAAACYAAAAmAAAAPwAAADcAAABZAAAANAAAACMAAAAkAAAAYwAAADAAAAAmAAAA\n",
       "HAAAAC0AAABCAAAAQwAAACcAAAAZAAAAFAAAAFkAAAApAAAAGAAAABgAAABKAAAALAAAAB4AAAAT\n",
       "AAAAOgAAACcAAAAVAAAAEwAAAD8AAAArAAAAEwAAABUAAABcAAAALAAAABYAAAAWAAAAIgAAACQA\n",
       "AAAXAAAAFwAAADMAAAAjAAAAFwAAABkAAAA1AAAAJQAAABgAAAAWAAAAMAAAACQAAAAYAAAAGgAA\n",
       "ACgAAAAhAAAAGAAAABgAAAAtAAAAJAAAABQAAAAUAAAAPQAAACIAAAAUAAAAFwAAACMAAAAiAAAA\n",
       "GQAAABgAAAAmAAAAIgAAABQAAAAUAAAAOAAAACIAAAAUAAAAFAAAADAAAAAgAAAAFAAAABQAAAAz\n",
       "AAAAIAAAABQAAAAWAAAAKwAAACIAAAAXAAAAFwAAACYAAAAiAAAAFAAAABQAAAAkAAAAIgAAABQA\n",
       "AAAUAAAAKgAAAB4AAAAUAAAAFAAAACoAAAAeAAAAFAAAABQAAAAvAAAAHgAAABQAAAAUAAAALgAA\n",
       "AB4AAAAUAAAAFAAAADIAAAAeAAAAFAAAABQAAAAzAAAAHgAAABQAAAAUAAAALgAAAB8AAAAUAAAA\n",
       "FgAAACgAAAAeAAAAFAAAABQAAAAwAAAAIAAAABQAAAAUAAAAKAAAAB4AAAAUAAAAFAAAACgAAAAe\n",
       "AAAAFAAAABQAAAAoAAAAHgAAABQAAAAUAAAAIwAAAB4AAAAUAAAAFAAAACcAAAAeAAAAFAAAABQA\n",
       "AAApAAAAHgAAABQAAAAUAAAAJQAAAB4AAAAUAAAAFAAAACcAAAAeAAAAFAAAABQAAAAgAAAAHgAA\n",
       "ABQAAAAUAAAAJwAAAB4AAAAUAAAAFAAAACIAAAAeAAAAFAAAABQAAAAiAAAAHgAAABQAAAAUAAAA\n",
       "FwAAAB4AAAAUAAAAFAAAACIAAAAeAAAAFAAAABQAAAAgAAAAHgAAABQAAAAUAAAAHwAAAB4AAAAU\n",
       "AAAAFAAAABcAAAAeAAAAFAAAABQAAAAiAAAAHgAAABQAAAAUAAAAIQAAAB4AAAAUAAAAFAAAABcA\n",
       "AAAeAAAAFAAAABQAAAAiAAAAHgAAABQAAAAUAAAAFwAAAB4AAAAUAAAAFAAAPzEAAAGLAAAAMQAA\n",
       "ACMAAAAVAAAAFwAAABoAAAAUAAAAFQAAABcAAAAZAAAAFAAAABUAAAAgAAAAGQAAABQAAAAVAAAA\n",
       "FwAAABkAAAAUAAAAFQAAACEAAAAZAAAAFAAAABUAAAAXAAAAGQAAABQAAAAVAAAAFwAAABkAAAAU\n",
       "AAAAFQAAACEAAAAZAAAAFAAAABUAAAAXAAAAGQAAABQAAAAVAAAAFwAAABkAAAAUAAAAFQAAABcA\n",
       "AAAZAAAAFAAAABUAAAAXAAAAGQAAABQAAAAVAAAAFwAAABkAAAAUAAAAFQAAACAAAAAZAAAAFAAA\n",
       "ABUAAAAfAAAAGQAAABQAAAAVAAAAFwAAABkAAAAUAAAAFQAAAB0AAAAZAAAAFAAAABUAAAAXAAAA\n",
       "GQAAABQAAAAVAAAAHwAAABkAAAAUAAAAFQAAABcAAAAZAAAAFAAAABUAAAAXAAAAGQAAABQAAAAV\n",
       "AAAAFwAAABkAAAAUAAAAFQAAABcAAAAZAAAAFAAAABUAAAAdAAAAGQAAABQAAAAVAAAAFwAAABkA\n",
       "AAAUAAAAFQAAABcAAAAZAAAAFAAAABUAAAAXAAAAGQAAABQAAAAVAAAAHgAAABkAAAAUAAAAFQAA\n",
       "ABcAAAAZAAAAFAAAABUAAAAXAAAAGQAAABQAAAAVAAAAFwAAABkAAAAUAAAAFQAAABcAAAAZAAAA\n",
       "FAAAABUAAAAXAAAAGQAAABQAAAAVAAAAFwAAABkAAAAUAAAAFQAAABcAAAAZAAAAFAAAABUAAAAY\n",
       "AAAAGQAAABQAAAAVAAAAFgAAABRzdGNvAAAAAAAAAAEAAAAsAAAAYnVkdGEAAABabWV0YQAAAAAA\n",
       "AAAhaGRscgAAAAAAAAAAbWRpcmFwcGwAAAAAAAAAAAAAAAAtaWxzdAAAACWpdG9vAAAAHWRhdGEA\n",
       "AAABAAAAAExhdmY1Ni4zNi4xMDA=\n",
       "\">\n",
       "  Your browser does not support the video tag.\n",
       "</video>"
      ]
     },
     "metadata": {},
     "output_type": "display_data"
    }
   ],
   "source": [
    "try:\n",
    "    display_html(HTML(anim.to_html5_video()))\n",
    "# In case the build-in renderers are unaviable, fall back to\n",
    "# a custom one, that doesn't require external libraries\n",
    "except RuntimeError:\n",
    "    anim.save(None, writer=matplotlib_utils.SimpleMovieWriter(0.001))"
   ]
  },
  {
   "cell_type": "markdown",
   "metadata": {},
   "source": [
    "# Logistic regression\n",
    "Your assignment is to implement the logistic regression\n",
    "\n",
    "Plan:\n",
    "* Use a shared variable for weights\n",
    "* Use a matrix placeholder for `X`\n",
    " \n",
    "We shall train on a two-class MNIST dataset\n",
    "* please note that target `y` are `{0,1}` and not `{-1,1}` as in some formulae"
   ]
  },
  {
   "cell_type": "code",
   "execution_count": 30,
   "metadata": {},
   "outputs": [
    {
     "name": "stdout",
     "output_type": "stream",
     "text": [
      "y [shape - (360,)]: [0 1 0 1 0 1 0 0 1 1]\n",
      "X [shape - (360, 64)]:\n"
     ]
    }
   ],
   "source": [
    "from sklearn.datasets import load_digits\n",
    "mnist = load_digits(2)\n",
    "\n",
    "X, y = mnist.data, mnist.target\n",
    "\n",
    "print(\"y [shape - %s]:\" % (str(y.shape)), y[:10])\n",
    "print(\"X [shape - %s]:\" % (str(X.shape)))"
   ]
  },
  {
   "cell_type": "code",
   "execution_count": 31,
   "metadata": {},
   "outputs": [
    {
     "name": "stdout",
     "output_type": "stream",
     "text": [
      "X:\n",
      " [[  0.   0.   5.  13.   9.   1.   0.   0.   0.   0.]\n",
      " [  0.   0.   0.  12.  13.   5.   0.   0.   0.   0.]\n",
      " [  0.   0.   1.   9.  15.  11.   0.   0.   0.   0.]]\n",
      "y:\n",
      " [0 1 0 1 0 1 0 0 1 1]\n"
     ]
    },
    {
     "data": {
      "image/png": "[encoded data removed]",
      "text/plain": [
       "<matplotlib.figure.Figure at 0x26c816c48d0>"
      ]
     },
     "metadata": {},
     "output_type": "display_data"
    }
   ],
   "source": [
    "print('X:\\n',X[:3,:10])\n",
    "print('y:\\n',y[:10])\n",
    "plt.imshow(X[0].reshape([8,8]));"
   ]
  },
  {
   "cell_type": "markdown",
   "metadata": {},
   "source": [
    "It's your turn now!\n",
    "Just a small reminder of the relevant math:\n",
    "\n",
    "$$\n",
    "P(y=1|X) = \\sigma(X \\cdot W + b)\n",
    "$$\n",
    "$$\n",
    "\\text{loss} = -\\log\\left(P\\left(y_\\text{predicted} = 1\\right)\\right)\\cdot y_\\text{true} - \\log\\left(1 - P\\left(y_\\text{predicted} = 1\\right)\\right)\\cdot\\left(1 - y_\\text{true}\\right)\n",
    "$$\n",
    "\n",
    "$\\sigma(x)$ is available via `tf.nn.sigmoid` and matrix multiplication via `tf.matmul`"
   ]
  },
  {
   "cell_type": "code",
   "execution_count": 32,
   "metadata": {
    "collapsed": true
   },
   "outputs": [],
   "source": [
    "from sklearn.model_selection import train_test_split\n",
    "X_train, X_test, y_train, y_test = train_test_split(\n",
    "    X, y, random_state=42)"
   ]
  },
  {
   "cell_type": "markdown",
   "metadata": {},
   "source": [
    "__Your code goes here.__ For the training and testing scaffolding to work, please stick to the names in comments."
   ]
  },
  {
   "cell_type": "code",
   "execution_count": 97,
   "metadata": {},
   "outputs": [],
   "source": [
    "# Model parameters - weights and bias\n",
    "weights = tf.Variable(initial_value=np.random.randn(X.shape[1], 1)*0.01, name=\"weights\", dtype=\"float32\")\n",
    "b = tf.Variable(initial_value=0, name=\"b\", dtype=\"float32\")"
   ]
  },
  {
   "cell_type": "code",
   "execution_count": 98,
   "metadata": {},
   "outputs": [],
   "source": [
    "# Placeholders for the input data\n",
    "input_X = tf.placeholder(tf.float32, name=\"input_X\")\n",
    "input_y = tf.placeholder(tf.float32, name=\"input_y\")"
   ]
  },
  {
   "cell_type": "code",
   "execution_count": 99,
   "metadata": {},
   "outputs": [],
   "source": [
    "# The model code\n",
    "\n",
    "# Compute a vector of predictions, resulting shape should be [input_X.shape[0],]\n",
    "# This is 1D, if you have extra dimensions, you can  get rid of them with tf.squeeze .\n",
    "# Don't forget the sigmoid.\n",
    "predicted_y = tf.squeeze(tf.nn.sigmoid(tf.add(tf.matmul(input_X, weights), b)))\n",
    "\n",
    "# Loss. Should be a scalar number - average loss over all the objects\n",
    "# tf.reduce_mean is your friend here\n",
    "loss = -tf.reduce_mean(tf.log(predicted_y) * input_y + tf.log(1 - predicted_y) * (1 - input_y))\n",
    "\n",
    "# See above for an example. tf.train.*Optimizer\n",
    "optimizer = tf.train.GradientDescentOptimizer(0.01).minimize(loss)\n"
   ]
  },
  {
   "cell_type": "markdown",
   "metadata": {},
   "source": [
    "A test to help with the debugging"
   ]
  },
  {
   "cell_type": "code",
   "execution_count": 100,
   "metadata": {},
   "outputs": [
    {
     "name": "stdout",
     "output_type": "stream",
     "text": [
      "(360,)\n"
     ]
    }
   ],
   "source": [
    "validation_weights = 1e-3 * np.fromiter(map(lambda x:\n",
    "        s.run(weird_psychotic_function, {my_scalar:x, my_vector:[1, 0.1, 2]}),\n",
    "                                   0.15 * np.arange(1, X.shape[1] + 1)),\n",
    "                                   count=X.shape[1], dtype=np.float32)[:, np.newaxis]\n",
    "# Compute predictions for given weights and bias\n",
    "prediction_validation = s.run(\n",
    "    predicted_y, {\n",
    "    input_X: X,\n",
    "    weights: validation_weights,\n",
    "    b: 1e-1})\n",
    "\n",
    "print(prediction_validation.shape)\n",
    "# Load the reference values for the predictions\n",
    "validation_true_values = np.loadtxt(\"validation_predictons.txt\")\n",
    "\n",
    "assert prediction_validation.shape == (X.shape[0],),\\\n",
    "       \"Predictions must be a 1D array with length equal to the number \" \\\n",
    "       \"of examples in input_X\"\n",
    "assert np.allclose(validation_true_values, prediction_validation)\n",
    "loss_validation = s.run(\n",
    "        loss, {\n",
    "            input_X: X[:100],\n",
    "            input_y: y[-100:],\n",
    "            weights: validation_weights+1.21e-3,\n",
    "            b: -1e-1})\n",
    "assert np.allclose(loss_validation, 0.728689)"
   ]
  },
  {
   "cell_type": "code",
   "execution_count": 101,
   "metadata": {},
   "outputs": [
    {
     "name": "stdout",
     "output_type": "stream",
     "text": [
      "loss at iter 0:0.1842\n",
      "train auc: 0.999890206412\n",
      "test auc: 0.999505928854\n",
      "loss at iter 1:0.2391\n",
      "train auc: 1.0\n",
      "test auc: 1.0\n",
      "loss at iter 2:0.2398\n",
      "train auc: 0.999890206412\n",
      "test auc: 0.999505928854\n",
      "loss at iter 3:0.1260\n",
      "train auc: 1.0\n",
      "test auc: 1.0\n",
      "loss at iter 4:0.0297\n",
      "train auc: 1.0\n",
      "test auc: 1.0\n"
     ]
    }
   ],
   "source": [
    "from sklearn.metrics import roc_auc_score\n",
    "s.run(tf.global_variables_initializer())\n",
    "for i in range(5):\n",
    "    s.run(optimizer, {input_X: X_train, input_y: y_train})\n",
    "    loss_i = s.run(loss, {input_X: X_train, input_y: y_train})\n",
    "    print(\"loss at iter %i:%.4f\" % (i, loss_i))\n",
    "    print(\"train auc:\", roc_auc_score(y_train, s.run(predicted_y, {input_X:X_train})))\n",
    "    print(\"test auc:\", roc_auc_score(y_test, s.run(predicted_y, {input_X:X_test})))"
   ]
  },
  {
   "cell_type": "markdown",
   "metadata": {},
   "source": [
    "### Coursera submission"
   ]
  },
  {
   "cell_type": "code",
   "execution_count": 102,
   "metadata": {
    "collapsed": true
   },
   "outputs": [],
   "source": [
    "grade_submitter = grading.Grader(\"BJCiiY8sEeeCnhKCj4fcOA\")"
   ]
  },
  {
   "cell_type": "code",
   "execution_count": 103,
   "metadata": {
    "collapsed": true
   },
   "outputs": [],
   "source": [
    "test_weights = 1e-3 * np.fromiter(map(lambda x:\n",
    "    s.run(weird_psychotic_function, {my_scalar:x, my_vector:[1, 2, 3]}),\n",
    "                               0.1 * np.arange(1, X.shape[1] + 1)),\n",
    "                               count=X.shape[1], dtype=np.float32)[:, np.newaxis]"
   ]
  },
  {
   "cell_type": "markdown",
   "metadata": {},
   "source": [
    "First, test prediction and loss computation. This part doesn't require a fitted model."
   ]
  },
  {
   "cell_type": "code",
   "execution_count": 104,
   "metadata": {
    "collapsed": true
   },
   "outputs": [],
   "source": [
    "prediction_test = s.run(\n",
    "    predicted_y, {\n",
    "    input_X: X,\n",
    "    weights: test_weights,\n",
    "    b: 1e-1})"
   ]
  },
  {
   "cell_type": "code",
   "execution_count": 105,
   "metadata": {
    "collapsed": true
   },
   "outputs": [],
   "source": [
    "assert prediction_test.shape == (X.shape[0],),\\\n",
    "       \"Predictions must be a 1D array with length equal to the number \" \\\n",
    "       \"of examples in X_test\""
   ]
  },
  {
   "cell_type": "code",
   "execution_count": 106,
   "metadata": {
    "collapsed": true
   },
   "outputs": [],
   "source": [
    "grade_submitter.set_answer(\"0ENlN\", prediction_test)"
   ]
  },
  {
   "cell_type": "code",
   "execution_count": 107,
   "metadata": {
    "collapsed": true
   },
   "outputs": [],
   "source": [
    "loss_test = s.run(\n",
    "    loss, {\n",
    "        input_X: X[:100],\n",
    "        input_y: y[-100:],\n",
    "        weights: test_weights+1.21e-3,\n",
    "        b: -1e-1})\n",
    "# Yes, the X/y indices mistmach is intentional"
   ]
  },
  {
   "cell_type": "code",
   "execution_count": 108,
   "metadata": {
    "collapsed": true
   },
   "outputs": [],
   "source": [
    "grade_submitter.set_answer(\"mMVpM\", loss_test)"
   ]
  },
  {
   "cell_type": "code",
   "execution_count": 109,
   "metadata": {
    "collapsed": true
   },
   "outputs": [],
   "source": [
    "grade_submitter.set_answer(\"D16Rc\", roc_auc_score(y_test, s.run(predicted_y, {input_X:X_test})))"
   ]
  },
  {
   "cell_type": "markdown",
   "metadata": {},
   "source": [
    "Please use the credentials obtained from the Coursera assignment page."
   ]
  },
  {
   "cell_type": "code",
   "execution_count": 110,
   "metadata": {},
   "outputs": [
    {
     "name": "stdout",
     "output_type": "stream",
     "text": [
      "Submitted to Coursera platform. See results on assignment page!\n"
     ]
    }
   ],
   "source": [
    "grade_submitter.submit('EMAIL', 'TOKEN')"
   ]
  }
 ],
 "metadata": {
  "kernelspec": {
   "display_name": "Python 3",
   "language": "python",
   "name": "python3"
  },
  "language_info": {
   "codemirror_mode": {
    "name": "ipython",
    "version": 3
   },
   "file_extension": ".py",
   "mimetype": "text/x-python",
   "name": "python",
   "nbconvert_exporter": "python",
   "pygments_lexer": "ipython3",
   "version": "3.6.3"
  }
 },
 "nbformat": 4,
 "nbformat_minor": 1
}
